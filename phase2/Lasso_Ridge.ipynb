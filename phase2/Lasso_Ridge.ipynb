{
 "cells": [
  {
   "cell_type": "code",
   "execution_count": 57,
   "id": "18ef8da9",
   "metadata": {},
   "outputs": [],
   "source": [
    "import pandas as pd\n",
    "import matplotlib.pyplot as plt\n",
    "import numpy as np\n",
    "import plotly.express as px\n",
    "from sklearn.model_selection import train_test_split, GridSearchCV\n",
    "from sklearn.preprocessing import StandardScaler\n",
    "from sklearn.linear_model import Lasso, LassoCV, Ridge, RidgeCV\n",
    "from sklearn.metrics import mean_absolute_error, mean_squared_error, r2_score"
   ]
  },
  {
   "cell_type": "markdown",
   "id": "e33288b3",
   "metadata": {},
   "source": [
    "## Loading the Dataset"
   ]
  },
  {
   "cell_type": "code",
   "execution_count": 2,
   "id": "8ec9ab50",
   "metadata": {},
   "outputs": [
    {
     "data": {
      "text/html": [
       "<div>\n",
       "<style scoped>\n",
       "    .dataframe tbody tr th:only-of-type {\n",
       "        vertical-align: middle;\n",
       "    }\n",
       "\n",
       "    .dataframe tbody tr th {\n",
       "        vertical-align: top;\n",
       "    }\n",
       "\n",
       "    .dataframe thead th {\n",
       "        text-align: right;\n",
       "    }\n",
       "</style>\n",
       "<table border=\"1\" class=\"dataframe\">\n",
       "  <thead>\n",
       "    <tr style=\"text-align: right;\">\n",
       "      <th></th>\n",
       "      <th>seller</th>\n",
       "      <th>offerType</th>\n",
       "      <th>abtest</th>\n",
       "      <th>vehicleType</th>\n",
       "      <th>gearbox</th>\n",
       "      <th>model</th>\n",
       "      <th>fuelType</th>\n",
       "      <th>brand</th>\n",
       "      <th>notRepairedDamage</th>\n",
       "      <th>powerPS_scaled</th>\n",
       "      <th>kilometer_scaled</th>\n",
       "      <th>price</th>\n",
       "      <th>age_of_car_scaled</th>\n",
       "    </tr>\n",
       "  </thead>\n",
       "  <tbody>\n",
       "    <tr>\n",
       "      <th>0</th>\n",
       "      <td>private</td>\n",
       "      <td>listing</td>\n",
       "      <td>test</td>\n",
       "      <td>limousine</td>\n",
       "      <td>manual</td>\n",
       "      <td>golf</td>\n",
       "      <td>diesel</td>\n",
       "      <td>volkswagen</td>\n",
       "      <td>no</td>\n",
       "      <td>0.352941</td>\n",
       "      <td>1.000000</td>\n",
       "      <td>4500.0</td>\n",
       "      <td>0.9</td>\n",
       "    </tr>\n",
       "    <tr>\n",
       "      <th>1</th>\n",
       "      <td>private</td>\n",
       "      <td>listing</td>\n",
       "      <td>test</td>\n",
       "      <td>limousine</td>\n",
       "      <td>manual</td>\n",
       "      <td>mondeo</td>\n",
       "      <td>diesel</td>\n",
       "      <td>ford</td>\n",
       "      <td>no</td>\n",
       "      <td>0.549020</td>\n",
       "      <td>1.000000</td>\n",
       "      <td>7300.0</td>\n",
       "      <td>0.8</td>\n",
       "    </tr>\n",
       "    <tr>\n",
       "      <th>2</th>\n",
       "      <td>private</td>\n",
       "      <td>listing</td>\n",
       "      <td>test</td>\n",
       "      <td>bus</td>\n",
       "      <td>manual</td>\n",
       "      <td>transporter</td>\n",
       "      <td>diesel</td>\n",
       "      <td>volkswagen</td>\n",
       "      <td>no</td>\n",
       "      <td>0.513725</td>\n",
       "      <td>0.583333</td>\n",
       "      <td>13900.0</td>\n",
       "      <td>0.7</td>\n",
       "    </tr>\n",
       "    <tr>\n",
       "      <th>3</th>\n",
       "      <td>private</td>\n",
       "      <td>listing</td>\n",
       "      <td>test</td>\n",
       "      <td>kombi</td>\n",
       "      <td>manual</td>\n",
       "      <td>passat</td>\n",
       "      <td>diesel</td>\n",
       "      <td>volkswagen</td>\n",
       "      <td>no</td>\n",
       "      <td>0.549020</td>\n",
       "      <td>1.000000</td>\n",
       "      <td>7450.0</td>\n",
       "      <td>1.0</td>\n",
       "    </tr>\n",
       "    <tr>\n",
       "      <th>4</th>\n",
       "      <td>private</td>\n",
       "      <td>listing</td>\n",
       "      <td>test</td>\n",
       "      <td>kombi</td>\n",
       "      <td>automatic</td>\n",
       "      <td>signum</td>\n",
       "      <td>diesel</td>\n",
       "      <td>opel</td>\n",
       "      <td>no</td>\n",
       "      <td>0.588235</td>\n",
       "      <td>0.583333</td>\n",
       "      <td>7600.0</td>\n",
       "      <td>1.0</td>\n",
       "    </tr>\n",
       "  </tbody>\n",
       "</table>\n",
       "</div>"
      ],
      "text/plain": [
       "    seller offerType abtest vehicleType    gearbox        model fuelType  \\\n",
       "0  private   listing   test   limousine     manual         golf   diesel   \n",
       "1  private   listing   test   limousine     manual       mondeo   diesel   \n",
       "2  private   listing   test         bus     manual  transporter   diesel   \n",
       "3  private   listing   test       kombi     manual       passat   diesel   \n",
       "4  private   listing   test       kombi  automatic       signum   diesel   \n",
       "\n",
       "        brand notRepairedDamage  powerPS_scaled  kilometer_scaled    price  \\\n",
       "0  volkswagen                no        0.352941          1.000000   4500.0   \n",
       "1        ford                no        0.549020          1.000000   7300.0   \n",
       "2  volkswagen                no        0.513725          0.583333  13900.0   \n",
       "3  volkswagen                no        0.549020          1.000000   7450.0   \n",
       "4        opel                no        0.588235          0.583333   7600.0   \n",
       "\n",
       "   age_of_car_scaled  \n",
       "0                0.9  \n",
       "1                0.8  \n",
       "2                0.7  \n",
       "3                1.0  \n",
       "4                1.0  "
      ]
     },
     "execution_count": 2,
     "metadata": {},
     "output_type": "execute_result"
    }
   ],
   "source": [
    "cleaned_dataset = pd.read_csv ('filtered_data.csv', encoding='ISO-8859-1')\n",
    "cleaned_dataset = cleaned_dataset.drop(cleaned_dataset.columns[0], axis = 1)\n",
    "cleaned_dataset.head()"
   ]
  },
  {
   "cell_type": "markdown",
   "id": "203cce24",
   "metadata": {},
   "source": [
    "## Encoding the Categorical Features"
   ]
  },
  {
   "cell_type": "code",
   "execution_count": 3,
   "id": "da8a3837",
   "metadata": {},
   "outputs": [
    {
     "data": {
      "text/html": [
       "<div>\n",
       "<style scoped>\n",
       "    .dataframe tbody tr th:only-of-type {\n",
       "        vertical-align: middle;\n",
       "    }\n",
       "\n",
       "    .dataframe tbody tr th {\n",
       "        vertical-align: top;\n",
       "    }\n",
       "\n",
       "    .dataframe thead th {\n",
       "        text-align: right;\n",
       "    }\n",
       "</style>\n",
       "<table border=\"1\" class=\"dataframe\">\n",
       "  <thead>\n",
       "    <tr style=\"text-align: right;\">\n",
       "      <th></th>\n",
       "      <th>powerPS_scaled</th>\n",
       "      <th>kilometer_scaled</th>\n",
       "      <th>price</th>\n",
       "      <th>age_of_car_scaled</th>\n",
       "      <th>seller_commercial</th>\n",
       "      <th>seller_private</th>\n",
       "      <th>offerType_listing</th>\n",
       "      <th>abtest_control</th>\n",
       "      <th>abtest_test</th>\n",
       "      <th>vehicleType_bus</th>\n",
       "      <th>...</th>\n",
       "      <th>brand_seat</th>\n",
       "      <th>brand_skoda</th>\n",
       "      <th>brand_smart</th>\n",
       "      <th>brand_subaru</th>\n",
       "      <th>brand_suzuki</th>\n",
       "      <th>brand_toyota</th>\n",
       "      <th>brand_volkswagen</th>\n",
       "      <th>brand_volvo</th>\n",
       "      <th>notRepairedDamage_no</th>\n",
       "      <th>notRepairedDamage_yes</th>\n",
       "    </tr>\n",
       "  </thead>\n",
       "  <tbody>\n",
       "    <tr>\n",
       "      <th>0</th>\n",
       "      <td>0.352941</td>\n",
       "      <td>1.000000</td>\n",
       "      <td>4500.0</td>\n",
       "      <td>0.9</td>\n",
       "      <td>0</td>\n",
       "      <td>1</td>\n",
       "      <td>1</td>\n",
       "      <td>0</td>\n",
       "      <td>1</td>\n",
       "      <td>0</td>\n",
       "      <td>...</td>\n",
       "      <td>0</td>\n",
       "      <td>0</td>\n",
       "      <td>0</td>\n",
       "      <td>0</td>\n",
       "      <td>0</td>\n",
       "      <td>0</td>\n",
       "      <td>1</td>\n",
       "      <td>0</td>\n",
       "      <td>1</td>\n",
       "      <td>0</td>\n",
       "    </tr>\n",
       "    <tr>\n",
       "      <th>1</th>\n",
       "      <td>0.549020</td>\n",
       "      <td>1.000000</td>\n",
       "      <td>7300.0</td>\n",
       "      <td>0.8</td>\n",
       "      <td>0</td>\n",
       "      <td>1</td>\n",
       "      <td>1</td>\n",
       "      <td>0</td>\n",
       "      <td>1</td>\n",
       "      <td>0</td>\n",
       "      <td>...</td>\n",
       "      <td>0</td>\n",
       "      <td>0</td>\n",
       "      <td>0</td>\n",
       "      <td>0</td>\n",
       "      <td>0</td>\n",
       "      <td>0</td>\n",
       "      <td>0</td>\n",
       "      <td>0</td>\n",
       "      <td>1</td>\n",
       "      <td>0</td>\n",
       "    </tr>\n",
       "    <tr>\n",
       "      <th>2</th>\n",
       "      <td>0.513725</td>\n",
       "      <td>0.583333</td>\n",
       "      <td>13900.0</td>\n",
       "      <td>0.7</td>\n",
       "      <td>0</td>\n",
       "      <td>1</td>\n",
       "      <td>1</td>\n",
       "      <td>0</td>\n",
       "      <td>1</td>\n",
       "      <td>1</td>\n",
       "      <td>...</td>\n",
       "      <td>0</td>\n",
       "      <td>0</td>\n",
       "      <td>0</td>\n",
       "      <td>0</td>\n",
       "      <td>0</td>\n",
       "      <td>0</td>\n",
       "      <td>1</td>\n",
       "      <td>0</td>\n",
       "      <td>1</td>\n",
       "      <td>0</td>\n",
       "    </tr>\n",
       "    <tr>\n",
       "      <th>3</th>\n",
       "      <td>0.549020</td>\n",
       "      <td>1.000000</td>\n",
       "      <td>7450.0</td>\n",
       "      <td>1.0</td>\n",
       "      <td>0</td>\n",
       "      <td>1</td>\n",
       "      <td>1</td>\n",
       "      <td>0</td>\n",
       "      <td>1</td>\n",
       "      <td>0</td>\n",
       "      <td>...</td>\n",
       "      <td>0</td>\n",
       "      <td>0</td>\n",
       "      <td>0</td>\n",
       "      <td>0</td>\n",
       "      <td>0</td>\n",
       "      <td>0</td>\n",
       "      <td>1</td>\n",
       "      <td>0</td>\n",
       "      <td>1</td>\n",
       "      <td>0</td>\n",
       "    </tr>\n",
       "    <tr>\n",
       "      <th>4</th>\n",
       "      <td>0.588235</td>\n",
       "      <td>0.583333</td>\n",
       "      <td>7600.0</td>\n",
       "      <td>1.0</td>\n",
       "      <td>0</td>\n",
       "      <td>1</td>\n",
       "      <td>1</td>\n",
       "      <td>0</td>\n",
       "      <td>1</td>\n",
       "      <td>0</td>\n",
       "      <td>...</td>\n",
       "      <td>0</td>\n",
       "      <td>0</td>\n",
       "      <td>0</td>\n",
       "      <td>0</td>\n",
       "      <td>0</td>\n",
       "      <td>0</td>\n",
       "      <td>0</td>\n",
       "      <td>0</td>\n",
       "      <td>1</td>\n",
       "      <td>0</td>\n",
       "    </tr>\n",
       "  </tbody>\n",
       "</table>\n",
       "<p>5 rows × 286 columns</p>\n",
       "</div>"
      ],
      "text/plain": [
       "   powerPS_scaled  kilometer_scaled    price  age_of_car_scaled  \\\n",
       "0        0.352941          1.000000   4500.0                0.9   \n",
       "1        0.549020          1.000000   7300.0                0.8   \n",
       "2        0.513725          0.583333  13900.0                0.7   \n",
       "3        0.549020          1.000000   7450.0                1.0   \n",
       "4        0.588235          0.583333   7600.0                1.0   \n",
       "\n",
       "   seller_commercial  seller_private  offerType_listing  abtest_control  \\\n",
       "0                  0               1                  1               0   \n",
       "1                  0               1                  1               0   \n",
       "2                  0               1                  1               0   \n",
       "3                  0               1                  1               0   \n",
       "4                  0               1                  1               0   \n",
       "\n",
       "   abtest_test  vehicleType_bus  ...  brand_seat  brand_skoda  brand_smart  \\\n",
       "0            1                0  ...           0            0            0   \n",
       "1            1                0  ...           0            0            0   \n",
       "2            1                1  ...           0            0            0   \n",
       "3            1                0  ...           0            0            0   \n",
       "4            1                0  ...           0            0            0   \n",
       "\n",
       "   brand_subaru  brand_suzuki  brand_toyota  brand_volkswagen  brand_volvo  \\\n",
       "0             0             0             0                 1            0   \n",
       "1             0             0             0                 0            0   \n",
       "2             0             0             0                 1            0   \n",
       "3             0             0             0                 1            0   \n",
       "4             0             0             0                 0            0   \n",
       "\n",
       "   notRepairedDamage_no  notRepairedDamage_yes  \n",
       "0                     1                      0  \n",
       "1                     1                      0  \n",
       "2                     1                      0  \n",
       "3                     1                      0  \n",
       "4                     1                      0  \n",
       "\n",
       "[5 rows x 286 columns]"
      ]
     },
     "execution_count": 3,
     "metadata": {},
     "output_type": "execute_result"
    }
   ],
   "source": [
    "categorical_columns = [\"seller\", \"offerType\",\"abtest\",\"vehicleType\",\"gearbox\",\"model\",\"fuelType\",\"brand\",\"notRepairedDamage\"]\n",
    "encoded_dataset = pd.get_dummies(cleaned_dataset, columns=categorical_columns)\n",
    "encoded_dataset.head()"
   ]
  },
  {
   "cell_type": "markdown",
   "id": "ccfa42f2",
   "metadata": {},
   "source": [
    "## Splitting the X and Y train and test sets"
   ]
  },
  {
   "cell_type": "code",
   "execution_count": 4,
   "id": "f3d6bed2",
   "metadata": {},
   "outputs": [],
   "source": [
    "X = encoded_dataset.drop('price', axis = 1)\n",
    "y = encoded_dataset['price']\n",
    "\n",
    "X_train, X_test, y_train, y_test = train_test_split(X, y, test_size=0.2, random_state=57)"
   ]
  },
  {
   "cell_type": "markdown",
   "id": "0076f624",
   "metadata": {},
   "source": [
    "## Scaling the data"
   ]
  },
  {
   "cell_type": "code",
   "execution_count": 5,
   "id": "5a1cae2b",
   "metadata": {},
   "outputs": [],
   "source": [
    "scaler = StandardScaler()\n",
    "X_train_scaled = scaler.fit_transform(X_train)\n",
    "X_test_scaled = scaler.fit_transform(X_test)"
   ]
  },
  {
   "cell_type": "markdown",
   "id": "cfc731e2",
   "metadata": {},
   "source": [
    "## 1. Lasso Regression Model"
   ]
  },
  {
   "cell_type": "code",
   "execution_count": 52,
   "id": "1fb4a79d",
   "metadata": {},
   "outputs": [
    {
     "name": "stdout",
     "output_type": "stream",
     "text": [
      "Mean Absolute Error: 1615.293239183182\n",
      "Mean Squared Error: 4945786.816950195\n",
      "RMSE for: 2223.912502089548\n",
      "R-squared: 0.7452871063689195 \n",
      "\n"
     ]
    },
    {
     "name": "stderr",
     "output_type": "stream",
     "text": [
      "C:\\Users\\Shri Gayathiri\\anaconda3\\lib\\site-packages\\sklearn\\linear_model\\_coordinate_descent.py:647: ConvergenceWarning: Objective did not converge. You might want to increase the number of iterations, check the scale of the features or consider increasing regularisation. Duality gap: 1.010e+08, tolerance: 8.757e+07\n",
      "  model = cd_fast.enet_coordinate_descent(\n"
     ]
    }
   ],
   "source": [
    "lasso_model = Lasso() \n",
    "lasso_model.fit(X_train_scaled, y_train)\n",
    "y_pred = lasso_model.predict(X_test_scaled)\n",
    "\n",
    "mae = mean_absolute_error(y_test, y_pred)\n",
    "mse = mean_squared_error(y_test, y_pred)\n",
    "rmse = mean_squared_error(y_test, y_pred, squared=False)\n",
    "r2 = r2_score(y_test, y_pred)\n",
    "\n",
    "print(f\"Mean Absolute Error: {mae}\")\n",
    "print(f\"Mean Squared Error: {mse}\")\n",
    "print(f\"RMSE for: {rmse}\")\n",
    "print(f\"R-squared: {r2} \\n\")"
   ]
  },
  {
   "cell_type": "markdown",
   "id": "52d7358d",
   "metadata": {},
   "source": [
    "## Visualizations:"
   ]
  },
  {
   "cell_type": "markdown",
   "id": "a3d31672",
   "metadata": {},
   "source": [
    "## Line plot of Actual Vs Predicted"
   ]
  },
  {
   "cell_type": "code",
   "execution_count": 80,
   "id": "92a931de",
   "metadata": {},
   "outputs": [
    {
     "data": {
      "image/png": "[encoded data removed]",
      "text/plain": [
       "<Figure size 1000x600 with 1 Axes>"
      ]
     },
     "metadata": {},
     "output_type": "display_data"
    }
   ],
   "source": [
    "plt.figure(figsize=(10, 6))\n",
    "plt.plot([min(y_test), max(y_test)], [min(y_test), max(y_test)], linestyle='--', color='r')\n",
    "plt.scatter(y_test, y_pred)\n",
    "plt.xlabel(\"Actual Values\")\n",
    "plt.ylabel(\"Predicted Values\")\n",
    "plt.title(\"Actual vs Predicted Values - Lasso Regressor\")\n",
    "plt.show()"
   ]
  },
  {
   "cell_type": "markdown",
   "id": "bb26a485",
   "metadata": {},
   "source": [
    "## Feature Importance"
   ]
  },
  {
   "cell_type": "code",
   "execution_count": 60,
   "id": "439e100d",
   "metadata": {},
   "outputs": [
    {
     "data": {
      "application/vnd.plotly.v1+json": {
       "config": {
        "plotlyServerURL": "https://plot.ly"
       },
       "data": [
        {
         "alignmentgroup": "True",
         "hovertemplate": "x=%{x}<br>y=%{y}<extra></extra>",
         "legendgroup": "",
         "marker": {
          "color": "#636efa",
          "pattern": {
           "shape": ""
          }
         },
         "name": "",
         "offsetgroup": "",
         "orientation": "h",
         "showlegend": false,
         "textposition": "auto",
         "type": "bar",
         "x": [
          1243.6121210058702,
          716.0418576066774,
          1605.4331160977483,
          6.709350979898728,
          7.593286618824158e-13,
          0,
          1.2230083776160516,
          7.642645370173194e-15,
          45.731554231775604,
          450.196921596651,
          318.20086389755403,
          0,
          88.61572144377307,
          4.315916603752399,
          13.307846030989984,
          326.6762756241415,
          293.0707702108655,
          0,
          23.87591647974713,
          15.58961594019588,
          13.045202046912626,
          58.206097781474746,
          39.08834248734094,
          0,
          103.81918612056572,
          139.71991145005836,
          3.365252683529821,
          247.36855630794113,
          24.002787461402235,
          10.354583251661282,
          54.25437719704466,
          297.17370879961925,
          73.27624636440237,
          18.326433860219733,
          100.34784227102442,
          58.66759388484738,
          14.23958515433839,
          57.414080413227396,
          115.5927315131636,
          0,
          82.14114927316471,
          11.128383327275682,
          19.353124263330134,
          274.8587206085565,
          56.625995389290026,
          35.545081563631484,
          76.34409626395659,
          36.279496872042046,
          0.06675343308654869,
          53.86199834011679,
          67.89922355540443,
          19.65238751948534,
          58.77418067002143,
          71.90989988531997,
          22.065908417035295,
          7.111530849535838,
          125.36724926232549,
          161.81858932242415,
          0,
          8.644417502421597,
          35.5548527523414,
          0,
          0,
          66.32932988221059,
          31.795053194936237,
          30.04426794681513,
          49.70642283593866,
          5.813472384429385,
          32.851437201735855,
          8.493062092383003,
          27.928125883527517,
          6.227271693362943,
          43.30080761008728,
          94.01327874263907,
          12.553505275506796,
          0,
          17.248562676694608,
          77.55907525131377,
          11.099147390828506,
          10.80526832516022,
          22.59268650671068,
          10.090399597289874,
          62.53064883395367,
          43.940193531358645,
          40.98450699345566,
          94.38756472326108,
          41.249091578083636,
          45.20795128338171,
          0.5183597691412094,
          25.67653264066541,
          96.17438622036828,
          73.740313456302,
          4.494306522530886,
          9.713024365534343,
          3.1682747215006746,
          54.86812656103587,
          49.724021992533096,
          3.6462465974033584,
          73.77246739078782,
          2.0099751639455263,
          52.09804203423041,
          2.998772418777071,
          16.854543289228424,
          42.793971168747596,
          14.155689773913839,
          29.510095383584673,
          23.78654226210768,
          86.21733263147333,
          39.369897809497225,
          21.855297747699506,
          2.3354088908746204,
          134.91801146265024,
          166.8198693877566,
          0,
          8.771627749908331,
          19.90591430987822,
          0,
          141.7267103274709,
          16.701756142770524,
          58.0509750370591,
          71.99988100635332,
          0,
          139.94997301038737,
          13.031811142570266,
          62.70626326265675,
          25.7415676604049,
          118.40456857606395,
          9.306156412883182,
          5.238369923998811,
          26.9293516702381,
          13.371157155385928,
          22.931596238848794,
          115.2344025098482,
          1.08642144216881,
          2.971294206328563,
          15.713057991945995,
          135.26488160472343,
          32.464879493008475,
          14.756756186623603,
          14.727414798979975,
          25.225726884958352,
          9.529942300863489,
          0,
          3.466266844433454,
          73.3138935218846,
          8.015123173628313,
          10.097265142684023,
          1.83840907035934,
          106.65159508301464,
          36.27985776594202,
          93.30662639557892,
          33.862667024574506,
          27.857823028202052,
          64.59170265048483,
          26.4588647881294,
          68.96202902079229,
          32.20338035874235,
          79.97880072369063,
          18.718832789030014,
          32.14466163761524,
          209.1082682555911,
          17.489737304811158,
          73.71828436861601,
          94.11114470370603,
          43.61003132923162,
          39.75406034363479,
          49.64420535819777,
          4.086414295790016,
          163.95623696103348,
          29.460765725154737,
          12.114099813654084,
          22.34370070580971,
          14.523963985425882,
          131.43215960353382,
          177.50969982068975,
          98.31806439409208,
          43.828618350408284,
          84.07463324620801,
          37.85195763890625,
          0,
          100.13487395298529,
          0.8188150631109645,
          0,
          51.399996997210934,
          0,
          154.84636527272622,
          210.39555249935745,
          97.31109802478946,
          46.13680658108332,
          85.32342962320286,
          34.959386557856014,
          54.92351458841915,
          127.03705945211219,
          6.766167124770162,
          15.016462049627805,
          29.135974365193416,
          2.206563470303422,
          90.16619003991813,
          17.64750750433923,
          27.221937934857724,
          90.78139422647526,
          50.980528486998466,
          8.98399801933196,
          163.06468761599868,
          13.384832557148915,
          19.161294555374237,
          87.53068395204997,
          147.44785789796495,
          5.37931849375921,
          92.67714667421878,
          93.26230207151319,
          13.557981062251482,
          511.22178938081504,
          30.050323227777064,
          0.2788320736024221,
          116.6078687536383,
          68.06649718717244,
          0.12804605079016246,
          24.37302549840022,
          66.65302554266893,
          29.126584045752075,
          19.602554268310055,
          14.636590755294366,
          40.64760325905738,
          72.11281064211227,
          102.01387056254687,
          55.12290692074895,
          16.884405110042362,
          81.9578051988532,
          289.4498194285126,
          10.045536747870381,
          77.53457050411986,
          104.54285192784583,
          111.54751056199751,
          27.429922718018798,
          12.097856966774778,
          63.7688994605464,
          21.288827143346058,
          106.8398888587297,
          24.401138016262482,
          87.44911876889637,
          2.172415810594464,
          6.5241569887693,
          0,
          43.66978253909228,
          68.89648204987054,
          1142.8406477013639,
          771.5768989952861,
          183.2587960116105,
          95.17986176296927,
          28.42282366223534,
          151.48939678320855,
          11.890480281761796,
          38.46689129333626,
          170.74357168700544,
          34.315132428140174,
          0,
          148.76141068221236,
          198.29458064834023,
          26.645665458089287,
          151.91851443744443,
          82.97058178159428,
          11.510022051135364,
          98.53645556240119,
          51.73287431394621,
          1108.1516359659045,
          173.0082997838749,
          6.010961131790724,
          55.24478248057788,
          39.96947475094795,
          129.71758848106802,
          89.54564995092416,
          51.24351056750561,
          4.700088880507353,
          0.42185517512111204,
          0,
          47.17943089725557,
          52.7035249868531,
          1.0129881759116577,
          104.79326685420769,
          174.47715552439195,
          582.1884979276944,
          150.182869844354,
          498.9556408771463,
          1.0173252629660371e-10
         ],
         "xaxis": "x",
         "y": [
          "powerPS_scaled",
          "kilometer_scaled",
          "age_of_car_scaled",
          "seller_commercial",
          "seller_private",
          "offerType_listing",
          "abtest_control",
          "abtest_test",
          "vehicleType_bus",
          "vehicleType_cabrio",
          "vehicleType_coupe",
          "vehicleType_kleinwagen",
          "vehicleType_kombi",
          "vehicleType_limousine",
          "vehicleType_others",
          "vehicleType_suv",
          "gearbox_automatic",
          "gearbox_manual",
          "model_100",
          "model_147",
          "model_156",
          "model_159",
          "model_1_reihe",
          "model_1er",
          "model_2_reihe",
          "model_300c",
          "model_3_reihe",
          "model_3er",
          "model_4_reihe",
          "model_500",
          "model_5_reihe",
          "model_5er",
          "model_6_reihe",
          "model_6er",
          "model_7er",
          "model_80",
          "model_900",
          "model_a1",
          "model_a3",
          "model_a4",
          "model_a5",
          "model_a6",
          "model_a8",
          "model_a_klasse",
          "model_accord",
          "model_agila",
          "model_alhambra",
          "model_almera",
          "model_altea",
          "model_amarok",
          "model_andere",
          "model_antara",
          "model_astra",
          "model_auris",
          "model_avensis",
          "model_aveo",
          "model_aygo",
          "model_b_klasse",
          "model_b_max",
          "model_beetle",
          "model_berlingo",
          "model_boxster",
          "model_bravo",
          "model_c1",
          "model_c2",
          "model_c3",
          "model_c4",
          "model_c5",
          "model_c_klasse",
          "model_c_max",
          "model_c_reihe",
          "model_caddy",
          "model_calibra",
          "model_captiva",
          "model_carisma",
          "model_carnival",
          "model_cayenne",
          "model_cc",
          "model_ceed",
          "model_cherokee",
          "model_civic",
          "model_cl",
          "model_clio",
          "model_clk",
          "model_clubman",
          "model_colt",
          "model_combo",
          "model_cooper",
          "model_cordoba",
          "model_corolla",
          "model_corsa",
          "model_cr_reihe",
          "model_croma",
          "model_crossfire",
          "model_cuore",
          "model_cx_reihe",
          "model_defender",
          "model_delta",
          "model_discovery",
          "model_doblo",
          "model_ducato",
          "model_duster",
          "model_e_klasse",
          "model_eos",
          "model_espace",
          "model_exeo",
          "model_fabia",
          "model_fiesta",
          "model_focus",
          "model_forester",
          "model_forfour",
          "model_fortwo",
          "model_fox",
          "model_freelander",
          "model_fusion",
          "model_g_klasse",
          "model_galant",
          "model_galaxy",
          "model_getz",
          "model_gl",
          "model_glk",
          "model_golf",
          "model_grand",
          "model_i_reihe",
          "model_ibiza",
          "model_impreza",
          "model_insignia",
          "model_jazz",
          "model_jetta",
          "model_jimny",
          "model_juke",
          "model_justy",
          "model_ka",
          "model_kaefer",
          "model_kalina",
          "model_kangoo",
          "model_kuga",
          "model_laguna",
          "model_lancer",
          "model_legacy",
          "model_leon",
          "model_lodgy",
          "model_logan",
          "model_lupo",
          "model_m_klasse",
          "model_m_reihe",
          "model_materia",
          "model_matiz",
          "model_megane",
          "model_meriva",
          "model_micra",
          "model_mii",
          "model_modus",
          "model_mondeo",
          "model_musa",
          "model_mustang",
          "model_mx_reihe",
          "model_navara",
          "model_niva",
          "model_note",
          "model_octavia",
          "model_one",
          "model_outlander",
          "model_pajero",
          "model_panda",
          "model_passat",
          "model_phaeton",
          "model_picanto",
          "model_polo",
          "model_primera",
          "model_ptcruiser",
          "model_punto",
          "model_q3",
          "model_q5",
          "model_q7",
          "model_qashqai",
          "model_range_rover",
          "model_range_rover_sport",
          "model_rangerover",
          "model_rav",
          "model_rio",
          "model_roadster",
          "model_roomster",
          "model_rx_reihe",
          "model_s60",
          "model_s_klasse",
          "model_s_max",
          "model_s_type",
          "model_sandero",
          "model_santa",
          "model_scenic",
          "model_scirocco",
          "model_sharan",
          "model_signum",
          "model_sirion",
          "model_sl",
          "model_slk",
          "model_sorento",
          "model_spark",
          "model_spider",
          "model_sportage",
          "model_sprinter",
          "model_stilo",
          "model_superb",
          "model_swift",
          "model_terios",
          "model_tigra",
          "model_tiguan",
          "model_toledo",
          "model_touareg",
          "model_touran",
          "model_transit",
          "model_transporter",
          "model_tt",
          "model_tucson",
          "model_twingo",
          "model_up",
          "model_v40",
          "model_v50",
          "model_v60",
          "model_v70",
          "model_v_klasse",
          "model_vectra",
          "model_verso",
          "model_viano",
          "model_vito",
          "model_vivaro",
          "model_voyager",
          "model_wrangler",
          "model_x_reihe",
          "model_x_trail",
          "model_x_type",
          "model_xc_reihe",
          "model_yaris",
          "model_yeti",
          "model_ypsilon",
          "model_z_reihe",
          "model_zafira",
          "fuelType_benzine",
          "fuelType_cng",
          "fuelType_diesel",
          "fuelType_electric",
          "fuelType_hybrid",
          "fuelType_lpg",
          "fuelType_others",
          "brand_alfa_romeo",
          "brand_audi",
          "brand_bmw",
          "brand_chevrolet",
          "brand_chrysler",
          "brand_citroen",
          "brand_dacia",
          "brand_daewoo",
          "brand_daihatsu",
          "brand_fiat",
          "brand_ford",
          "brand_honda",
          "brand_hyundai",
          "brand_jaguar",
          "brand_jeep",
          "brand_kia",
          "brand_lada",
          "brand_lancia",
          "brand_land_rover",
          "brand_mazda",
          "brand_mercedes_benz",
          "brand_mini",
          "brand_mitsubishi",
          "brand_nissan",
          "brand_opel",
          "brand_peugeot",
          "brand_porsche",
          "brand_renault",
          "brand_rover",
          "brand_saab",
          "brand_seat",
          "brand_skoda",
          "brand_smart",
          "brand_subaru",
          "brand_suzuki",
          "brand_toyota",
          "brand_volkswagen",
          "brand_volvo",
          "notRepairedDamage_no",
          "notRepairedDamage_yes"
         ],
         "yaxis": "y"
        }
       ],
       "layout": {
        "barmode": "relative",
        "legend": {
         "tracegroupgap": 0
        },
        "template": {
         "data": {
          "bar": [
           {
            "error_x": {
             "color": "#2a3f5f"
            },
            "error_y": {
             "color": "#2a3f5f"
            },
            "marker": {
             "line": {
              "color": "#E5ECF6",
              "width": 0.5
             },
             "pattern": {
              "fillmode": "overlay",
              "size": 10,
              "solidity": 0.2
             }
            },
            "type": "bar"
           }
          ],
          "barpolar": [
           {
            "marker": {
             "line": {
              "color": "#E5ECF6",
              "width": 0.5
             },
             "pattern": {
              "fillmode": "overlay",
              "size": 10,
              "solidity": 0.2
             }
            },
            "type": "barpolar"
           }
          ],
          "carpet": [
           {
            "aaxis": {
             "endlinecolor": "#2a3f5f",
             "gridcolor": "white",
             "linecolor": "white",
             "minorgridcolor": "white",
             "startlinecolor": "#2a3f5f"
            },
            "baxis": {
             "endlinecolor": "#2a3f5f",
             "gridcolor": "white",
             "linecolor": "white",
             "minorgridcolor": "white",
             "startlinecolor": "#2a3f5f"
            },
            "type": "carpet"
           }
          ],
          "choropleth": [
           {
            "colorbar": {
             "outlinewidth": 0,
             "ticks": ""
            },
            "type": "choropleth"
           }
          ],
          "contour": [
           {
            "colorbar": {
             "outlinewidth": 0,
             "ticks": ""
            },
            "colorscale": [
             [
              0,
              "#0d0887"
             ],
             [
              0.1111111111111111,
              "#46039f"
             ],
             [
              0.2222222222222222,
              "#7201a8"
             ],
             [
              0.3333333333333333,
              "#9c179e"
             ],
             [
              0.4444444444444444,
              "#bd3786"
             ],
             [
              0.5555555555555556,
              "#d8576b"
             ],
             [
              0.6666666666666666,
              "#ed7953"
             ],
             [
              0.7777777777777778,
              "#fb9f3a"
             ],
             [
              0.8888888888888888,
              "#fdca26"
             ],
             [
              1,
              "#f0f921"
             ]
            ],
            "type": "contour"
           }
          ],
          "contourcarpet": [
           {
            "colorbar": {
             "outlinewidth": 0,
             "ticks": ""
            },
            "type": "contourcarpet"
           }
          ],
          "heatmap": [
           {
            "colorbar": {
             "outlinewidth": 0,
             "ticks": ""
            },
            "colorscale": [
             [
              0,
              "#0d0887"
             ],
             [
              0.1111111111111111,
              "#46039f"
             ],
             [
              0.2222222222222222,
              "#7201a8"
             ],
             [
              0.3333333333333333,
              "#9c179e"
             ],
             [
              0.4444444444444444,
              "#bd3786"
             ],
             [
              0.5555555555555556,
              "#d8576b"
             ],
             [
              0.6666666666666666,
              "#ed7953"
             ],
             [
              0.7777777777777778,
              "#fb9f3a"
             ],
             [
              0.8888888888888888,
              "#fdca26"
             ],
             [
              1,
              "#f0f921"
             ]
            ],
            "type": "heatmap"
           }
          ],
          "heatmapgl": [
           {
            "colorbar": {
             "outlinewidth": 0,
             "ticks": ""
            },
            "colorscale": [
             [
              0,
              "#0d0887"
             ],
             [
              0.1111111111111111,
              "#46039f"
             ],
             [
              0.2222222222222222,
              "#7201a8"
             ],
             [
              0.3333333333333333,
              "#9c179e"
             ],
             [
              0.4444444444444444,
              "#bd3786"
             ],
             [
              0.5555555555555556,
              "#d8576b"
             ],
             [
              0.6666666666666666,
              "#ed7953"
             ],
             [
              0.7777777777777778,
              "#fb9f3a"
             ],
             [
              0.8888888888888888,
              "#fdca26"
             ],
             [
              1,
              "#f0f921"
             ]
            ],
            "type": "heatmapgl"
           }
          ],
          "histogram": [
           {
            "marker": {
             "pattern": {
              "fillmode": "overlay",
              "size": 10,
              "solidity": 0.2
             }
            },
            "type": "histogram"
           }
          ],
          "histogram2d": [
           {
            "colorbar": {
             "outlinewidth": 0,
             "ticks": ""
            },
            "colorscale": [
             [
              0,
              "#0d0887"
             ],
             [
              0.1111111111111111,
              "#46039f"
             ],
             [
              0.2222222222222222,
              "#7201a8"
             ],
             [
              0.3333333333333333,
              "#9c179e"
             ],
             [
              0.4444444444444444,
              "#bd3786"
             ],
             [
              0.5555555555555556,
              "#d8576b"
             ],
             [
              0.6666666666666666,
              "#ed7953"
             ],
             [
              0.7777777777777778,
              "#fb9f3a"
             ],
             [
              0.8888888888888888,
              "#fdca26"
             ],
             [
              1,
              "#f0f921"
             ]
            ],
            "type": "histogram2d"
           }
          ],
          "histogram2dcontour": [
           {
            "colorbar": {
             "outlinewidth": 0,
             "ticks": ""
            },
            "colorscale": [
             [
              0,
              "#0d0887"
             ],
             [
              0.1111111111111111,
              "#46039f"
             ],
             [
              0.2222222222222222,
              "#7201a8"
             ],
             [
              0.3333333333333333,
              "#9c179e"
             ],
             [
              0.4444444444444444,
              "#bd3786"
             ],
             [
              0.5555555555555556,
              "#d8576b"
             ],
             [
              0.6666666666666666,
              "#ed7953"
             ],
             [
              0.7777777777777778,
              "#fb9f3a"
             ],
             [
              0.8888888888888888,
              "#fdca26"
             ],
             [
              1,
              "#f0f921"
             ]
            ],
            "type": "histogram2dcontour"
           }
          ],
          "mesh3d": [
           {
            "colorbar": {
             "outlinewidth": 0,
             "ticks": ""
            },
            "type": "mesh3d"
           }
          ],
          "parcoords": [
           {
            "line": {
             "colorbar": {
              "outlinewidth": 0,
              "ticks": ""
             }
            },
            "type": "parcoords"
           }
          ],
          "pie": [
           {
            "automargin": true,
            "type": "pie"
           }
          ],
          "scatter": [
           {
            "fillpattern": {
             "fillmode": "overlay",
             "size": 10,
             "solidity": 0.2
            },
            "type": "scatter"
           }
          ],
          "scatter3d": [
           {
            "line": {
             "colorbar": {
              "outlinewidth": 0,
              "ticks": ""
             }
            },
            "marker": {
             "colorbar": {
              "outlinewidth": 0,
              "ticks": ""
             }
            },
            "type": "scatter3d"
           }
          ],
          "scattercarpet": [
           {
            "marker": {
             "colorbar": {
              "outlinewidth": 0,
              "ticks": ""
             }
            },
            "type": "scattercarpet"
           }
          ],
          "scattergeo": [
           {
            "marker": {
             "colorbar": {
              "outlinewidth": 0,
              "ticks": ""
             }
            },
            "type": "scattergeo"
           }
          ],
          "scattergl": [
           {
            "marker": {
             "colorbar": {
              "outlinewidth": 0,
              "ticks": ""
             }
            },
            "type": "scattergl"
           }
          ],
          "scattermapbox": [
           {
            "marker": {
             "colorbar": {
              "outlinewidth": 0,
              "ticks": ""
             }
            },
            "type": "scattermapbox"
           }
          ],
          "scatterpolar": [
           {
            "marker": {
             "colorbar": {
              "outlinewidth": 0,
              "ticks": ""
             }
            },
            "type": "scatterpolar"
           }
          ],
          "scatterpolargl": [
           {
            "marker": {
             "colorbar": {
              "outlinewidth": 0,
              "ticks": ""
             }
            },
            "type": "scatterpolargl"
           }
          ],
          "scatterternary": [
           {
            "marker": {
             "colorbar": {
              "outlinewidth": 0,
              "ticks": ""
             }
            },
            "type": "scatterternary"
           }
          ],
          "surface": [
           {
            "colorbar": {
             "outlinewidth": 0,
             "ticks": ""
            },
            "colorscale": [
             [
              0,
              "#0d0887"
             ],
             [
              0.1111111111111111,
              "#46039f"
             ],
             [
              0.2222222222222222,
              "#7201a8"
             ],
             [
              0.3333333333333333,
              "#9c179e"
             ],
             [
              0.4444444444444444,
              "#bd3786"
             ],
             [
              0.5555555555555556,
              "#d8576b"
             ],
             [
              0.6666666666666666,
              "#ed7953"
             ],
             [
              0.7777777777777778,
              "#fb9f3a"
             ],
             [
              0.8888888888888888,
              "#fdca26"
             ],
             [
              1,
              "#f0f921"
             ]
            ],
            "type": "surface"
           }
          ],
          "table": [
           {
            "cells": {
             "fill": {
              "color": "#EBF0F8"
             },
             "line": {
              "color": "white"
             }
            },
            "header": {
             "fill": {
              "color": "#C8D4E3"
             },
             "line": {
              "color": "white"
             }
            },
            "type": "table"
           }
          ]
         },
         "layout": {
          "annotationdefaults": {
           "arrowcolor": "#2a3f5f",
           "arrowhead": 0,
           "arrowwidth": 1
          },
          "autotypenumbers": "strict",
          "coloraxis": {
           "colorbar": {
            "outlinewidth": 0,
            "ticks": ""
           }
          },
          "colorscale": {
           "diverging": [
            [
             0,
             "#8e0152"
            ],
            [
             0.1,
             "#c51b7d"
            ],
            [
             0.2,
             "#de77ae"
            ],
            [
             0.3,
             "#f1b6da"
            ],
            [
             0.4,
             "#fde0ef"
            ],
            [
             0.5,
             "#f7f7f7"
            ],
            [
             0.6,
             "#e6f5d0"
            ],
            [
             0.7,
             "#b8e186"
            ],
            [
             0.8,
             "#7fbc41"
            ],
            [
             0.9,
             "#4d9221"
            ],
            [
             1,
             "#276419"
            ]
           ],
           "sequential": [
            [
             0,
             "#0d0887"
            ],
            [
             0.1111111111111111,
             "#46039f"
            ],
            [
             0.2222222222222222,
             "#7201a8"
            ],
            [
             0.3333333333333333,
             "#9c179e"
            ],
            [
             0.4444444444444444,
             "#bd3786"
            ],
            [
             0.5555555555555556,
             "#d8576b"
            ],
            [
             0.6666666666666666,
             "#ed7953"
            ],
            [
             0.7777777777777778,
             "#fb9f3a"
            ],
            [
             0.8888888888888888,
             "#fdca26"
            ],
            [
             1,
             "#f0f921"
            ]
           ],
           "sequentialminus": [
            [
             0,
             "#0d0887"
            ],
            [
             0.1111111111111111,
             "#46039f"
            ],
            [
             0.2222222222222222,
             "#7201a8"
            ],
            [
             0.3333333333333333,
             "#9c179e"
            ],
            [
             0.4444444444444444,
             "#bd3786"
            ],
            [
             0.5555555555555556,
             "#d8576b"
            ],
            [
             0.6666666666666666,
             "#ed7953"
            ],
            [
             0.7777777777777778,
             "#fb9f3a"
            ],
            [
             0.8888888888888888,
             "#fdca26"
            ],
            [
             1,
             "#f0f921"
            ]
           ]
          },
          "colorway": [
           "#636efa",
           "#EF553B",
           "#00cc96",
           "#ab63fa",
           "#FFA15A",
           "#19d3f3",
           "#FF6692",
           "#B6E880",
           "#FF97FF",
           "#FECB52"
          ],
          "font": {
           "color": "#2a3f5f"
          },
          "geo": {
           "bgcolor": "white",
           "lakecolor": "white",
           "landcolor": "#E5ECF6",
           "showlakes": true,
           "showland": true,
           "subunitcolor": "white"
          },
          "hoverlabel": {
           "align": "left"
          },
          "hovermode": "closest",
          "mapbox": {
           "style": "light"
          },
          "paper_bgcolor": "white",
          "plot_bgcolor": "#E5ECF6",
          "polar": {
           "angularaxis": {
            "gridcolor": "white",
            "linecolor": "white",
            "ticks": ""
           },
           "bgcolor": "#E5ECF6",
           "radialaxis": {
            "gridcolor": "white",
            "linecolor": "white",
            "ticks": ""
           }
          },
          "scene": {
           "xaxis": {
            "backgroundcolor": "#E5ECF6",
            "gridcolor": "white",
            "gridwidth": 2,
            "linecolor": "white",
            "showbackground": true,
            "ticks": "",
            "zerolinecolor": "white"
           },
           "yaxis": {
            "backgroundcolor": "#E5ECF6",
            "gridcolor": "white",
            "gridwidth": 2,
            "linecolor": "white",
            "showbackground": true,
            "ticks": "",
            "zerolinecolor": "white"
           },
           "zaxis": {
            "backgroundcolor": "#E5ECF6",
            "gridcolor": "white",
            "gridwidth": 2,
            "linecolor": "white",
            "showbackground": true,
            "ticks": "",
            "zerolinecolor": "white"
           }
          },
          "shapedefaults": {
           "line": {
            "color": "#2a3f5f"
           }
          },
          "ternary": {
           "aaxis": {
            "gridcolor": "white",
            "linecolor": "white",
            "ticks": ""
           },
           "baxis": {
            "gridcolor": "white",
            "linecolor": "white",
            "ticks": ""
           },
           "bgcolor": "#E5ECF6",
           "caxis": {
            "gridcolor": "white",
            "linecolor": "white",
            "ticks": ""
           }
          },
          "title": {
           "x": 0.05
          },
          "xaxis": {
           "automargin": true,
           "gridcolor": "white",
           "linecolor": "white",
           "ticks": "",
           "title": {
            "standoff": 15
           },
           "zerolinecolor": "white",
           "zerolinewidth": 2
          },
          "yaxis": {
           "automargin": true,
           "gridcolor": "white",
           "linecolor": "white",
           "ticks": "",
           "title": {
            "standoff": 15
           },
           "zerolinecolor": "white",
           "zerolinewidth": 2
          }
         }
        },
        "title": {
         "text": "Lasso Regression - Feature Importance"
        },
        "xaxis": {
         "anchor": "y",
         "domain": [
          0,
          1
         ],
         "title": {
          "text": "Coefficient Magnitude"
         }
        },
        "yaxis": {
         "anchor": "x",
         "categoryorder": "total ascending",
         "domain": [
          0,
          1
         ],
         "title": {
          "text": "Features"
         }
        }
       }
      },
      "text/html": [
       "<div>                            <div id=\"16923d82-0c9b-4130-8eb8-66953344df6b\" class=\"plotly-graph-div\" style=\"height:525px; width:100%;\"></div>            <script type=\"text/javascript\">                require([\"plotly\"], function(Plotly) {                    window.PLOTLYENV=window.PLOTLYENV || {};                                    if (document.getElementById(\"16923d82-0c9b-4130-8eb8-66953344df6b\")) {                    Plotly.newPlot(                        \"16923d82-0c9b-4130-8eb8-66953344df6b\",                        [{\"alignmentgroup\":\"True\",\"hovertemplate\":\"x=%{x}<br>y=%{y}<extra></extra>\",\"legendgroup\":\"\",\"marker\":{\"color\":\"#636efa\",\"pattern\":{\"shape\":\"\"}},\"name\":\"\",\"offsetgroup\":\"\",\"orientation\":\"h\",\"showlegend\":false,\"textposition\":\"auto\",\"x\":[1243.6121210058702,716.0418576066774,1605.4331160977483,6.709350979898728,7.593286618824158e-13,0.0,1.2230083776160516,7.642645370173194e-15,45.731554231775604,450.196921596651,318.20086389755403,0.0,88.61572144377307,4.315916603752399,13.307846030989984,326.6762756241415,293.0707702108655,0.0,23.87591647974713,15.58961594019588,13.045202046912626,58.206097781474746,39.08834248734094,0.0,103.81918612056572,139.71991145005836,3.365252683529821,247.36855630794113,24.002787461402235,10.354583251661282,54.25437719704466,297.17370879961925,73.27624636440237,18.326433860219733,100.34784227102442,58.66759388484738,14.23958515433839,57.414080413227396,115.5927315131636,0.0,82.14114927316471,11.128383327275682,19.353124263330134,274.8587206085565,56.625995389290026,35.545081563631484,76.34409626395659,36.279496872042046,0.06675343308654869,53.86199834011679,67.89922355540443,19.65238751948534,58.77418067002143,71.90989988531997,22.065908417035295,7.111530849535838,125.36724926232549,161.81858932242415,0.0,8.644417502421597,35.5548527523414,0.0,0.0,66.32932988221059,31.795053194936237,30.04426794681513,49.70642283593866,5.813472384429385,32.851437201735855,8.493062092383003,27.928125883527517,6.227271693362943,43.30080761008728,94.01327874263907,12.553505275506796,0.0,17.248562676694608,77.55907525131377,11.099147390828506,10.80526832516022,22.59268650671068,10.090399597289874,62.53064883395367,43.940193531358645,40.98450699345566,94.38756472326108,41.249091578083636,45.20795128338171,0.5183597691412094,25.67653264066541,96.17438622036828,73.740313456302,4.494306522530886,9.713024365534343,3.1682747215006746,54.86812656103587,49.724021992533096,3.6462465974033584,73.77246739078782,2.0099751639455263,52.09804203423041,2.998772418777071,16.854543289228424,42.793971168747596,14.155689773913839,29.510095383584673,23.78654226210768,86.21733263147333,39.369897809497225,21.855297747699506,2.3354088908746204,134.91801146265024,166.8198693877566,0.0,8.771627749908331,19.90591430987822,0.0,141.7267103274709,16.701756142770524,58.0509750370591,71.99988100635332,0.0,139.94997301038737,13.031811142570266,62.70626326265675,25.7415676604049,118.40456857606395,9.306156412883182,5.238369923998811,26.9293516702381,13.371157155385928,22.931596238848794,115.2344025098482,1.08642144216881,2.971294206328563,15.713057991945995,135.26488160472343,32.464879493008475,14.756756186623603,14.727414798979975,25.225726884958352,9.529942300863489,0.0,3.466266844433454,73.3138935218846,8.015123173628313,10.097265142684023,1.83840907035934,106.65159508301464,36.27985776594202,93.30662639557892,33.862667024574506,27.857823028202052,64.59170265048483,26.4588647881294,68.96202902079229,32.20338035874235,79.97880072369063,18.718832789030014,32.14466163761524,209.1082682555911,17.489737304811158,73.71828436861601,94.11114470370603,43.61003132923162,39.75406034363479,49.64420535819777,4.086414295790016,163.95623696103348,29.460765725154737,12.114099813654084,22.34370070580971,14.523963985425882,131.43215960353382,177.50969982068975,98.31806439409208,43.828618350408284,84.07463324620801,37.85195763890625,0.0,100.13487395298529,0.8188150631109645,0.0,51.399996997210934,0.0,154.84636527272622,210.39555249935745,97.31109802478946,46.13680658108332,85.32342962320286,34.959386557856014,54.92351458841915,127.03705945211219,6.766167124770162,15.016462049627805,29.135974365193416,2.206563470303422,90.16619003991813,17.64750750433923,27.221937934857724,90.78139422647526,50.980528486998466,8.98399801933196,163.06468761599868,13.384832557148915,19.161294555374237,87.53068395204997,147.44785789796495,5.37931849375921,92.67714667421878,93.26230207151319,13.557981062251482,511.22178938081504,30.050323227777064,0.2788320736024221,116.6078687536383,68.06649718717244,0.12804605079016246,24.37302549840022,66.65302554266893,29.126584045752075,19.602554268310055,14.636590755294366,40.64760325905738,72.11281064211227,102.01387056254687,55.12290692074895,16.884405110042362,81.9578051988532,289.4498194285126,10.045536747870381,77.53457050411986,104.54285192784583,111.54751056199751,27.429922718018798,12.097856966774778,63.7688994605464,21.288827143346058,106.8398888587297,24.401138016262482,87.44911876889637,2.172415810594464,6.5241569887693,0.0,43.66978253909228,68.89648204987054,1142.8406477013639,771.5768989952861,183.2587960116105,95.17986176296927,28.42282366223534,151.48939678320855,11.890480281761796,38.46689129333626,170.74357168700544,34.315132428140174,0.0,148.76141068221236,198.29458064834023,26.645665458089287,151.91851443744443,82.97058178159428,11.510022051135364,98.53645556240119,51.73287431394621,1108.1516359659045,173.0082997838749,6.010961131790724,55.24478248057788,39.96947475094795,129.71758848106802,89.54564995092416,51.24351056750561,4.700088880507353,0.42185517512111204,0.0,47.17943089725557,52.7035249868531,1.0129881759116577,104.79326685420769,174.47715552439195,582.1884979276944,150.182869844354,498.9556408771463,1.0173252629660371e-10],\"xaxis\":\"x\",\"y\":[\"powerPS_scaled\",\"kilometer_scaled\",\"age_of_car_scaled\",\"seller_commercial\",\"seller_private\",\"offerType_listing\",\"abtest_control\",\"abtest_test\",\"vehicleType_bus\",\"vehicleType_cabrio\",\"vehicleType_coupe\",\"vehicleType_kleinwagen\",\"vehicleType_kombi\",\"vehicleType_limousine\",\"vehicleType_others\",\"vehicleType_suv\",\"gearbox_automatic\",\"gearbox_manual\",\"model_100\",\"model_147\",\"model_156\",\"model_159\",\"model_1_reihe\",\"model_1er\",\"model_2_reihe\",\"model_300c\",\"model_3_reihe\",\"model_3er\",\"model_4_reihe\",\"model_500\",\"model_5_reihe\",\"model_5er\",\"model_6_reihe\",\"model_6er\",\"model_7er\",\"model_80\",\"model_900\",\"model_a1\",\"model_a3\",\"model_a4\",\"model_a5\",\"model_a6\",\"model_a8\",\"model_a_klasse\",\"model_accord\",\"model_agila\",\"model_alhambra\",\"model_almera\",\"model_altea\",\"model_amarok\",\"model_andere\",\"model_antara\",\"model_astra\",\"model_auris\",\"model_avensis\",\"model_aveo\",\"model_aygo\",\"model_b_klasse\",\"model_b_max\",\"model_beetle\",\"model_berlingo\",\"model_boxster\",\"model_bravo\",\"model_c1\",\"model_c2\",\"model_c3\",\"model_c4\",\"model_c5\",\"model_c_klasse\",\"model_c_max\",\"model_c_reihe\",\"model_caddy\",\"model_calibra\",\"model_captiva\",\"model_carisma\",\"model_carnival\",\"model_cayenne\",\"model_cc\",\"model_ceed\",\"model_cherokee\",\"model_civic\",\"model_cl\",\"model_clio\",\"model_clk\",\"model_clubman\",\"model_colt\",\"model_combo\",\"model_cooper\",\"model_cordoba\",\"model_corolla\",\"model_corsa\",\"model_cr_reihe\",\"model_croma\",\"model_crossfire\",\"model_cuore\",\"model_cx_reihe\",\"model_defender\",\"model_delta\",\"model_discovery\",\"model_doblo\",\"model_ducato\",\"model_duster\",\"model_e_klasse\",\"model_eos\",\"model_espace\",\"model_exeo\",\"model_fabia\",\"model_fiesta\",\"model_focus\",\"model_forester\",\"model_forfour\",\"model_fortwo\",\"model_fox\",\"model_freelander\",\"model_fusion\",\"model_g_klasse\",\"model_galant\",\"model_galaxy\",\"model_getz\",\"model_gl\",\"model_glk\",\"model_golf\",\"model_grand\",\"model_i_reihe\",\"model_ibiza\",\"model_impreza\",\"model_insignia\",\"model_jazz\",\"model_jetta\",\"model_jimny\",\"model_juke\",\"model_justy\",\"model_ka\",\"model_kaefer\",\"model_kalina\",\"model_kangoo\",\"model_kuga\",\"model_laguna\",\"model_lancer\",\"model_legacy\",\"model_leon\",\"model_lodgy\",\"model_logan\",\"model_lupo\",\"model_m_klasse\",\"model_m_reihe\",\"model_materia\",\"model_matiz\",\"model_megane\",\"model_meriva\",\"model_micra\",\"model_mii\",\"model_modus\",\"model_mondeo\",\"model_musa\",\"model_mustang\",\"model_mx_reihe\",\"model_navara\",\"model_niva\",\"model_note\",\"model_octavia\",\"model_one\",\"model_outlander\",\"model_pajero\",\"model_panda\",\"model_passat\",\"model_phaeton\",\"model_picanto\",\"model_polo\",\"model_primera\",\"model_ptcruiser\",\"model_punto\",\"model_q3\",\"model_q5\",\"model_q7\",\"model_qashqai\",\"model_range_rover\",\"model_range_rover_sport\",\"model_rangerover\",\"model_rav\",\"model_rio\",\"model_roadster\",\"model_roomster\",\"model_rx_reihe\",\"model_s60\",\"model_s_klasse\",\"model_s_max\",\"model_s_type\",\"model_sandero\",\"model_santa\",\"model_scenic\",\"model_scirocco\",\"model_sharan\",\"model_signum\",\"model_sirion\",\"model_sl\",\"model_slk\",\"model_sorento\",\"model_spark\",\"model_spider\",\"model_sportage\",\"model_sprinter\",\"model_stilo\",\"model_superb\",\"model_swift\",\"model_terios\",\"model_tigra\",\"model_tiguan\",\"model_toledo\",\"model_touareg\",\"model_touran\",\"model_transit\",\"model_transporter\",\"model_tt\",\"model_tucson\",\"model_twingo\",\"model_up\",\"model_v40\",\"model_v50\",\"model_v60\",\"model_v70\",\"model_v_klasse\",\"model_vectra\",\"model_verso\",\"model_viano\",\"model_vito\",\"model_vivaro\",\"model_voyager\",\"model_wrangler\",\"model_x_reihe\",\"model_x_trail\",\"model_x_type\",\"model_xc_reihe\",\"model_yaris\",\"model_yeti\",\"model_ypsilon\",\"model_z_reihe\",\"model_zafira\",\"fuelType_benzine\",\"fuelType_cng\",\"fuelType_diesel\",\"fuelType_electric\",\"fuelType_hybrid\",\"fuelType_lpg\",\"fuelType_others\",\"brand_alfa_romeo\",\"brand_audi\",\"brand_bmw\",\"brand_chevrolet\",\"brand_chrysler\",\"brand_citroen\",\"brand_dacia\",\"brand_daewoo\",\"brand_daihatsu\",\"brand_fiat\",\"brand_ford\",\"brand_honda\",\"brand_hyundai\",\"brand_jaguar\",\"brand_jeep\",\"brand_kia\",\"brand_lada\",\"brand_lancia\",\"brand_land_rover\",\"brand_mazda\",\"brand_mercedes_benz\",\"brand_mini\",\"brand_mitsubishi\",\"brand_nissan\",\"brand_opel\",\"brand_peugeot\",\"brand_porsche\",\"brand_renault\",\"brand_rover\",\"brand_saab\",\"brand_seat\",\"brand_skoda\",\"brand_smart\",\"brand_subaru\",\"brand_suzuki\",\"brand_toyota\",\"brand_volkswagen\",\"brand_volvo\",\"notRepairedDamage_no\",\"notRepairedDamage_yes\"],\"yaxis\":\"y\",\"type\":\"bar\"}],                        {\"template\":{\"data\":{\"histogram2dcontour\":[{\"type\":\"histogram2dcontour\",\"colorbar\":{\"outlinewidth\":0,\"ticks\":\"\"},\"colorscale\":[[0.0,\"#0d0887\"],[0.1111111111111111,\"#46039f\"],[0.2222222222222222,\"#7201a8\"],[0.3333333333333333,\"#9c179e\"],[0.4444444444444444,\"#bd3786\"],[0.5555555555555556,\"#d8576b\"],[0.6666666666666666,\"#ed7953\"],[0.7777777777777778,\"#fb9f3a\"],[0.8888888888888888,\"#fdca26\"],[1.0,\"#f0f921\"]]}],\"choropleth\":[{\"type\":\"choropleth\",\"colorbar\":{\"outlinewidth\":0,\"ticks\":\"\"}}],\"histogram2d\":[{\"type\":\"histogram2d\",\"colorbar\":{\"outlinewidth\":0,\"ticks\":\"\"},\"colorscale\":[[0.0,\"#0d0887\"],[0.1111111111111111,\"#46039f\"],[0.2222222222222222,\"#7201a8\"],[0.3333333333333333,\"#9c179e\"],[0.4444444444444444,\"#bd3786\"],[0.5555555555555556,\"#d8576b\"],[0.6666666666666666,\"#ed7953\"],[0.7777777777777778,\"#fb9f3a\"],[0.8888888888888888,\"#fdca26\"],[1.0,\"#f0f921\"]]}],\"heatmap\":[{\"type\":\"heatmap\",\"colorbar\":{\"outlinewidth\":0,\"ticks\":\"\"},\"colorscale\":[[0.0,\"#0d0887\"],[0.1111111111111111,\"#46039f\"],[0.2222222222222222,\"#7201a8\"],[0.3333333333333333,\"#9c179e\"],[0.4444444444444444,\"#bd3786\"],[0.5555555555555556,\"#d8576b\"],[0.6666666666666666,\"#ed7953\"],[0.7777777777777778,\"#fb9f3a\"],[0.8888888888888888,\"#fdca26\"],[1.0,\"#f0f921\"]]}],\"heatmapgl\":[{\"type\":\"heatmapgl\",\"colorbar\":{\"outlinewidth\":0,\"ticks\":\"\"},\"colorscale\":[[0.0,\"#0d0887\"],[0.1111111111111111,\"#46039f\"],[0.2222222222222222,\"#7201a8\"],[0.3333333333333333,\"#9c179e\"],[0.4444444444444444,\"#bd3786\"],[0.5555555555555556,\"#d8576b\"],[0.6666666666666666,\"#ed7953\"],[0.7777777777777778,\"#fb9f3a\"],[0.8888888888888888,\"#fdca26\"],[1.0,\"#f0f921\"]]}],\"contourcarpet\":[{\"type\":\"contourcarpet\",\"colorbar\":{\"outlinewidth\":0,\"ticks\":\"\"}}],\"contour\":[{\"type\":\"contour\",\"colorbar\":{\"outlinewidth\":0,\"ticks\":\"\"},\"colorscale\":[[0.0,\"#0d0887\"],[0.1111111111111111,\"#46039f\"],[0.2222222222222222,\"#7201a8\"],[0.3333333333333333,\"#9c179e\"],[0.4444444444444444,\"#bd3786\"],[0.5555555555555556,\"#d8576b\"],[0.6666666666666666,\"#ed7953\"],[0.7777777777777778,\"#fb9f3a\"],[0.8888888888888888,\"#fdca26\"],[1.0,\"#f0f921\"]]}],\"surface\":[{\"type\":\"surface\",\"colorbar\":{\"outlinewidth\":0,\"ticks\":\"\"},\"colorscale\":[[0.0,\"#0d0887\"],[0.1111111111111111,\"#46039f\"],[0.2222222222222222,\"#7201a8\"],[0.3333333333333333,\"#9c179e\"],[0.4444444444444444,\"#bd3786\"],[0.5555555555555556,\"#d8576b\"],[0.6666666666666666,\"#ed7953\"],[0.7777777777777778,\"#fb9f3a\"],[0.8888888888888888,\"#fdca26\"],[1.0,\"#f0f921\"]]}],\"mesh3d\":[{\"type\":\"mesh3d\",\"colorbar\":{\"outlinewidth\":0,\"ticks\":\"\"}}],\"scatter\":[{\"fillpattern\":{\"fillmode\":\"overlay\",\"size\":10,\"solidity\":0.2},\"type\":\"scatter\"}],\"parcoords\":[{\"type\":\"parcoords\",\"line\":{\"colorbar\":{\"outlinewidth\":0,\"ticks\":\"\"}}}],\"scatterpolargl\":[{\"type\":\"scatterpolargl\",\"marker\":{\"colorbar\":{\"outlinewidth\":0,\"ticks\":\"\"}}}],\"bar\":[{\"error_x\":{\"color\":\"#2a3f5f\"},\"error_y\":{\"color\":\"#2a3f5f\"},\"marker\":{\"line\":{\"color\":\"#E5ECF6\",\"width\":0.5},\"pattern\":{\"fillmode\":\"overlay\",\"size\":10,\"solidity\":0.2}},\"type\":\"bar\"}],\"scattergeo\":[{\"type\":\"scattergeo\",\"marker\":{\"colorbar\":{\"outlinewidth\":0,\"ticks\":\"\"}}}],\"scatterpolar\":[{\"type\":\"scatterpolar\",\"marker\":{\"colorbar\":{\"outlinewidth\":0,\"ticks\":\"\"}}}],\"histogram\":[{\"marker\":{\"pattern\":{\"fillmode\":\"overlay\",\"size\":10,\"solidity\":0.2}},\"type\":\"histogram\"}],\"scattergl\":[{\"type\":\"scattergl\",\"marker\":{\"colorbar\":{\"outlinewidth\":0,\"ticks\":\"\"}}}],\"scatter3d\":[{\"type\":\"scatter3d\",\"line\":{\"colorbar\":{\"outlinewidth\":0,\"ticks\":\"\"}},\"marker\":{\"colorbar\":{\"outlinewidth\":0,\"ticks\":\"\"}}}],\"scattermapbox\":[{\"type\":\"scattermapbox\",\"marker\":{\"colorbar\":{\"outlinewidth\":0,\"ticks\":\"\"}}}],\"scatterternary\":[{\"type\":\"scatterternary\",\"marker\":{\"colorbar\":{\"outlinewidth\":0,\"ticks\":\"\"}}}],\"scattercarpet\":[{\"type\":\"scattercarpet\",\"marker\":{\"colorbar\":{\"outlinewidth\":0,\"ticks\":\"\"}}}],\"carpet\":[{\"aaxis\":{\"endlinecolor\":\"#2a3f5f\",\"gridcolor\":\"white\",\"linecolor\":\"white\",\"minorgridcolor\":\"white\",\"startlinecolor\":\"#2a3f5f\"},\"baxis\":{\"endlinecolor\":\"#2a3f5f\",\"gridcolor\":\"white\",\"linecolor\":\"white\",\"minorgridcolor\":\"white\",\"startlinecolor\":\"#2a3f5f\"},\"type\":\"carpet\"}],\"table\":[{\"cells\":{\"fill\":{\"color\":\"#EBF0F8\"},\"line\":{\"color\":\"white\"}},\"header\":{\"fill\":{\"color\":\"#C8D4E3\"},\"line\":{\"color\":\"white\"}},\"type\":\"table\"}],\"barpolar\":[{\"marker\":{\"line\":{\"color\":\"#E5ECF6\",\"width\":0.5},\"pattern\":{\"fillmode\":\"overlay\",\"size\":10,\"solidity\":0.2}},\"type\":\"barpolar\"}],\"pie\":[{\"automargin\":true,\"type\":\"pie\"}]},\"layout\":{\"autotypenumbers\":\"strict\",\"colorway\":[\"#636efa\",\"#EF553B\",\"#00cc96\",\"#ab63fa\",\"#FFA15A\",\"#19d3f3\",\"#FF6692\",\"#B6E880\",\"#FF97FF\",\"#FECB52\"],\"font\":{\"color\":\"#2a3f5f\"},\"hovermode\":\"closest\",\"hoverlabel\":{\"align\":\"left\"},\"paper_bgcolor\":\"white\",\"plot_bgcolor\":\"#E5ECF6\",\"polar\":{\"bgcolor\":\"#E5ECF6\",\"angularaxis\":{\"gridcolor\":\"white\",\"linecolor\":\"white\",\"ticks\":\"\"},\"radialaxis\":{\"gridcolor\":\"white\",\"linecolor\":\"white\",\"ticks\":\"\"}},\"ternary\":{\"bgcolor\":\"#E5ECF6\",\"aaxis\":{\"gridcolor\":\"white\",\"linecolor\":\"white\",\"ticks\":\"\"},\"baxis\":{\"gridcolor\":\"white\",\"linecolor\":\"white\",\"ticks\":\"\"},\"caxis\":{\"gridcolor\":\"white\",\"linecolor\":\"white\",\"ticks\":\"\"}},\"coloraxis\":{\"colorbar\":{\"outlinewidth\":0,\"ticks\":\"\"}},\"colorscale\":{\"sequential\":[[0.0,\"#0d0887\"],[0.1111111111111111,\"#46039f\"],[0.2222222222222222,\"#7201a8\"],[0.3333333333333333,\"#9c179e\"],[0.4444444444444444,\"#bd3786\"],[0.5555555555555556,\"#d8576b\"],[0.6666666666666666,\"#ed7953\"],[0.7777777777777778,\"#fb9f3a\"],[0.8888888888888888,\"#fdca26\"],[1.0,\"#f0f921\"]],\"sequentialminus\":[[0.0,\"#0d0887\"],[0.1111111111111111,\"#46039f\"],[0.2222222222222222,\"#7201a8\"],[0.3333333333333333,\"#9c179e\"],[0.4444444444444444,\"#bd3786\"],[0.5555555555555556,\"#d8576b\"],[0.6666666666666666,\"#ed7953\"],[0.7777777777777778,\"#fb9f3a\"],[0.8888888888888888,\"#fdca26\"],[1.0,\"#f0f921\"]],\"diverging\":[[0,\"#8e0152\"],[0.1,\"#c51b7d\"],[0.2,\"#de77ae\"],[0.3,\"#f1b6da\"],[0.4,\"#fde0ef\"],[0.5,\"#f7f7f7\"],[0.6,\"#e6f5d0\"],[0.7,\"#b8e186\"],[0.8,\"#7fbc41\"],[0.9,\"#4d9221\"],[1,\"#276419\"]]},\"xaxis\":{\"gridcolor\":\"white\",\"linecolor\":\"white\",\"ticks\":\"\",\"title\":{\"standoff\":15},\"zerolinecolor\":\"white\",\"automargin\":true,\"zerolinewidth\":2},\"yaxis\":{\"gridcolor\":\"white\",\"linecolor\":\"white\",\"ticks\":\"\",\"title\":{\"standoff\":15},\"zerolinecolor\":\"white\",\"automargin\":true,\"zerolinewidth\":2},\"scene\":{\"xaxis\":{\"backgroundcolor\":\"#E5ECF6\",\"gridcolor\":\"white\",\"linecolor\":\"white\",\"showbackground\":true,\"ticks\":\"\",\"zerolinecolor\":\"white\",\"gridwidth\":2},\"yaxis\":{\"backgroundcolor\":\"#E5ECF6\",\"gridcolor\":\"white\",\"linecolor\":\"white\",\"showbackground\":true,\"ticks\":\"\",\"zerolinecolor\":\"white\",\"gridwidth\":2},\"zaxis\":{\"backgroundcolor\":\"#E5ECF6\",\"gridcolor\":\"white\",\"linecolor\":\"white\",\"showbackground\":true,\"ticks\":\"\",\"zerolinecolor\":\"white\",\"gridwidth\":2}},\"shapedefaults\":{\"line\":{\"color\":\"#2a3f5f\"}},\"annotationdefaults\":{\"arrowcolor\":\"#2a3f5f\",\"arrowhead\":0,\"arrowwidth\":1},\"geo\":{\"bgcolor\":\"white\",\"landcolor\":\"#E5ECF6\",\"subunitcolor\":\"white\",\"showland\":true,\"showlakes\":true,\"lakecolor\":\"white\"},\"title\":{\"x\":0.05},\"mapbox\":{\"style\":\"light\"}}},\"xaxis\":{\"anchor\":\"y\",\"domain\":[0.0,1.0],\"title\":{\"text\":\"Coefficient Magnitude\"}},\"yaxis\":{\"anchor\":\"x\",\"domain\":[0.0,1.0],\"title\":{\"text\":\"Features\"},\"categoryorder\":\"total ascending\"},\"legend\":{\"tracegroupgap\":0},\"title\":{\"text\":\"Lasso Regression - Feature Importance\"},\"barmode\":\"relative\"},                        {\"responsive\": true}                    ).then(function(){\n",
       "                            \n",
       "var gd = document.getElementById('16923d82-0c9b-4130-8eb8-66953344df6b');\n",
       "var x = new MutationObserver(function (mutations, observer) {{\n",
       "        var display = window.getComputedStyle(gd).display;\n",
       "        if (!display || display === 'none') {{\n",
       "            console.log([gd, 'removed!']);\n",
       "            Plotly.purge(gd);\n",
       "            observer.disconnect();\n",
       "        }}\n",
       "}});\n",
       "\n",
       "// Listen for the removal of the full notebook cells\n",
       "var notebookContainer = gd.closest('#notebook-container');\n",
       "if (notebookContainer) {{\n",
       "    x.observe(notebookContainer, {childList: true});\n",
       "}}\n",
       "\n",
       "// Listen for the clearing of the current output cell\n",
       "var outputEl = gd.closest('.output');\n",
       "if (outputEl) {{\n",
       "    x.observe(outputEl, {childList: true});\n",
       "}}\n",
       "\n",
       "                        })                };                });            </script>        </div>"
      ]
     },
     "metadata": {},
     "output_type": "display_data"
    }
   ],
   "source": [
    "# https://plotly.com/python/bar-charts/\n",
    "\n",
    "coefficients = lasso_model.coef_\n",
    "fig = px.bar(x=np.abs(coefficients), y=X_train.columns, orientation='h', title='Lasso Regression - Feature Importance')\n",
    "fig.update_layout(yaxis=dict(categoryorder='total ascending'))\n",
    "fig.update_xaxes(title_text='Coefficient Magnitude')\n",
    "fig.update_yaxes(title_text='Features')\n",
    "fig.show()"
   ]
  },
  {
   "cell_type": "markdown",
   "id": "ea8cbc5e",
   "metadata": {},
   "source": [
    "## Feature Importance - Top 10 Features"
   ]
  },
  {
   "cell_type": "code",
   "execution_count": 77,
   "id": "8772e28c",
   "metadata": {},
   "outputs": [
    {
     "data": {
      "image/png": "[encoded data removed]",
      "text/plain": [
       "<Figure size 1000x600 with 1 Axes>"
      ]
     },
     "metadata": {},
     "output_type": "display_data"
    }
   ],
   "source": [
    "coefficients = lasso_model.coef_\n",
    "top_n = 10\n",
    "top_feature_indices = np.argsort(np.abs(coefficients))[-top_n:]\n",
    "top_feature_names = X_train.columns[top_feature_indices]\n",
    "plt.figure(figsize=(10, 6))\n",
    "plt.bar(range(len(top_feature_indices)), np.abs(coefficients[top_feature_indices]))\n",
    "plt.xticks(range(len(top_feature_indices)), top_feature_names, rotation=45)\n",
    "plt.xlabel('Features')\n",
    "plt.ylabel('Coefficient Magnitude')\n",
    "plt.title(f'Top {top_n} Lasso Regression - Feature Importance')\n",
    "plt.show()"
   ]
  },
  {
   "cell_type": "markdown",
   "id": "0ac87d96",
   "metadata": {},
   "source": [
    "## Tuning the Model using Cross-Validation: LassoCV"
   ]
  },
  {
   "cell_type": "code",
   "execution_count": 12,
   "id": "32df4f05",
   "metadata": {},
   "outputs": [
    {
     "name": "stderr",
     "output_type": "stream",
     "text": [
      "C:\\Users\\Shri Gayathiri\\anaconda3\\lib\\site-packages\\sklearn\\linear_model\\_coordinate_descent.py:633: ConvergenceWarning: Objective did not converge. You might want to increase the number of iterations. Duality gap: 150851118.88391113, tolerance: 69595948.52875605\n",
      "  model = cd_fast.enet_coordinate_descent_gram(\n",
      "C:\\Users\\Shri Gayathiri\\anaconda3\\lib\\site-packages\\sklearn\\linear_model\\_coordinate_descent.py:633: ConvergenceWarning: Objective did not converge. You might want to increase the number of iterations. Duality gap: 3052987878.8999634, tolerance: 69595948.52875605\n",
      "  model = cd_fast.enet_coordinate_descent_gram(\n",
      "C:\\Users\\Shri Gayathiri\\anaconda3\\lib\\site-packages\\sklearn\\linear_model\\_coordinate_descent.py:633: UserWarning: Coordinate descent with alpha=0 may lead to unexpected results and is discouraged.\n",
      "  model = cd_fast.enet_coordinate_descent_gram(\n",
      "C:\\Users\\Shri Gayathiri\\anaconda3\\lib\\site-packages\\sklearn\\linear_model\\_coordinate_descent.py:633: ConvergenceWarning: Objective did not converge. You might want to increase the number of iterations. Duality gap: 89374518790.271, tolerance: 69595948.52875605\n",
      "  model = cd_fast.enet_coordinate_descent_gram(\n",
      "C:\\Users\\Shri Gayathiri\\anaconda3\\lib\\site-packages\\sklearn\\linear_model\\_coordinate_descent.py:633: ConvergenceWarning: Objective did not converge. You might want to increase the number of iterations. Duality gap: 198773170.76153564, tolerance: 70125515.27984321\n",
      "  model = cd_fast.enet_coordinate_descent_gram(\n",
      "C:\\Users\\Shri Gayathiri\\anaconda3\\lib\\site-packages\\sklearn\\linear_model\\_coordinate_descent.py:633: UserWarning: Coordinate descent with alpha=0 may lead to unexpected results and is discouraged.\n",
      "  model = cd_fast.enet_coordinate_descent_gram(\n",
      "C:\\Users\\Shri Gayathiri\\anaconda3\\lib\\site-packages\\sklearn\\linear_model\\_coordinate_descent.py:633: ConvergenceWarning: Objective did not converge. You might want to increase the number of iterations. Duality gap: 89867855888.53418, tolerance: 70125515.27984321\n",
      "  model = cd_fast.enet_coordinate_descent_gram(\n",
      "C:\\Users\\Shri Gayathiri\\anaconda3\\lib\\site-packages\\sklearn\\linear_model\\_coordinate_descent.py:633: ConvergenceWarning: Objective did not converge. You might want to increase the number of iterations. Duality gap: 499495245.20391846, tolerance: 70334075.69769387\n",
      "  model = cd_fast.enet_coordinate_descent_gram(\n",
      "C:\\Users\\Shri Gayathiri\\anaconda3\\lib\\site-packages\\sklearn\\linear_model\\_coordinate_descent.py:633: ConvergenceWarning: Objective did not converge. You might want to increase the number of iterations. Duality gap: 215331275.37579346, tolerance: 70334075.69769387\n",
      "  model = cd_fast.enet_coordinate_descent_gram(\n",
      "C:\\Users\\Shri Gayathiri\\anaconda3\\lib\\site-packages\\sklearn\\linear_model\\_coordinate_descent.py:633: UserWarning: Coordinate descent with alpha=0 may lead to unexpected results and is discouraged.\n",
      "  model = cd_fast.enet_coordinate_descent_gram(\n",
      "C:\\Users\\Shri Gayathiri\\anaconda3\\lib\\site-packages\\sklearn\\linear_model\\_coordinate_descent.py:633: ConvergenceWarning: Objective did not converge. You might want to increase the number of iterations. Duality gap: 89552123809.13861, tolerance: 70334075.69769387\n",
      "  model = cd_fast.enet_coordinate_descent_gram(\n",
      "C:\\Users\\Shri Gayathiri\\anaconda3\\lib\\site-packages\\sklearn\\linear_model\\_coordinate_descent.py:633: ConvergenceWarning: Objective did not converge. You might want to increase the number of iterations. Duality gap: 194430558.36364746, tolerance: 70133753.58501875\n",
      "  model = cd_fast.enet_coordinate_descent_gram(\n",
      "C:\\Users\\Shri Gayathiri\\anaconda3\\lib\\site-packages\\sklearn\\linear_model\\_coordinate_descent.py:633: ConvergenceWarning: Objective did not converge. You might want to increase the number of iterations. Duality gap: 92878422.84689331, tolerance: 70133753.58501875\n",
      "  model = cd_fast.enet_coordinate_descent_gram(\n",
      "C:\\Users\\Shri Gayathiri\\anaconda3\\lib\\site-packages\\sklearn\\linear_model\\_coordinate_descent.py:633: ConvergenceWarning: Objective did not converge. You might want to increase the number of iterations. Duality gap: 4141214594.846924, tolerance: 70133753.58501875\n",
      "  model = cd_fast.enet_coordinate_descent_gram(\n",
      "C:\\Users\\Shri Gayathiri\\anaconda3\\lib\\site-packages\\sklearn\\linear_model\\_coordinate_descent.py:633: UserWarning: Coordinate descent with alpha=0 may lead to unexpected results and is discouraged.\n",
      "  model = cd_fast.enet_coordinate_descent_gram(\n",
      "C:\\Users\\Shri Gayathiri\\anaconda3\\lib\\site-packages\\sklearn\\linear_model\\_coordinate_descent.py:633: ConvergenceWarning: Objective did not converge. You might want to increase the number of iterations. Duality gap: 90539332760.92505, tolerance: 70133753.58501875\n",
      "  model = cd_fast.enet_coordinate_descent_gram(\n",
      "C:\\Users\\Shri Gayathiri\\anaconda3\\lib\\site-packages\\sklearn\\linear_model\\_coordinate_descent.py:633: ConvergenceWarning: Objective did not converge. You might want to increase the number of iterations. Duality gap: 224254445.7578125, tolerance: 70105676.3576275\n",
      "  model = cd_fast.enet_coordinate_descent_gram(\n",
      "C:\\Users\\Shri Gayathiri\\anaconda3\\lib\\site-packages\\sklearn\\linear_model\\_coordinate_descent.py:633: ConvergenceWarning: Objective did not converge. You might want to increase the number of iterations. Duality gap: 282187993.8776245, tolerance: 70105676.3576275\n",
      "  model = cd_fast.enet_coordinate_descent_gram(\n",
      "C:\\Users\\Shri Gayathiri\\anaconda3\\lib\\site-packages\\sklearn\\linear_model\\_coordinate_descent.py:633: UserWarning: Coordinate descent with alpha=0 may lead to unexpected results and is discouraged.\n",
      "  model = cd_fast.enet_coordinate_descent_gram(\n",
      "C:\\Users\\Shri Gayathiri\\anaconda3\\lib\\site-packages\\sklearn\\linear_model\\_coordinate_descent.py:633: ConvergenceWarning: Objective did not converge. You might want to increase the number of iterations. Duality gap: 89241140940.79602, tolerance: 70105676.3576275\n",
      "  model = cd_fast.enet_coordinate_descent_gram(\n",
      "C:\\Users\\Shri Gayathiri\\anaconda3\\lib\\site-packages\\sklearn\\linear_model\\_coordinate_descent.py:647: ConvergenceWarning: Objective did not converge. You might want to increase the number of iterations, check the scale of the features or consider increasing regularisation. Duality gap: 4.759e+08, tolerance: 8.757e+07\n",
      "  model = cd_fast.enet_coordinate_descent(\n"
     ]
    },
    {
     "name": "stdout",
     "output_type": "stream",
     "text": [
      "Best Alpha: 0.8\n",
      "Mean Absolute Error (MAE): 1615.365619230575\n",
      "Mean Squared Error (MSE): 4945857.822443706\n",
      "Root Mean Squared Error (RMSE): 2223.928466125587\n",
      "R-squared (R2-Score): 0.7452834495160495\n"
     ]
    },
    {
     "name": "stderr",
     "output_type": "stream",
     "text": [
      "C:\\Users\\Shri Gayathiri\\anaconda3\\lib\\site-packages\\sklearn\\linear_model\\_coordinate_descent.py:647: ConvergenceWarning: Objective did not converge. You might want to increase the number of iterations, check the scale of the features or consider increasing regularisation. Duality gap: 4.759e+08, tolerance: 8.757e+07\n",
      "  model = cd_fast.enet_coordinate_descent(\n"
     ]
    }
   ],
   "source": [
    "lasso_cv = LassoCV(alphas=np.arange(0.00, 1.0, 0.1), cv=5)\n",
    "lasso_cv.fit(X_train_scaled, y_train)\n",
    "best_alpha = lasso_cv.alpha_\n",
    "\n",
    "final_lasso_model = Lasso(alpha=best_alpha)\n",
    "final_lasso_model.fit(X_train_scaled, y_train)\n",
    "\n",
    "y_pred_cv = final_lasso_model.predict(X_test_scaled)\n",
    "\n",
    "mae_cv = mean_absolute_error(y_test, y_pred_cv)\n",
    "mse_cv = mean_squared_error(y_test, y_pred_cv)\n",
    "rmse_cv = mean_squared_error(y_test, y_pred_cv, squared=False)\n",
    "r2_cv = r2_score(y_test, y_pred_cv)\n",
    "\n",
    "print(f\"Best Alpha: {best_alpha}\")\n",
    "print(f\"Mean Absolute Error (MAE): {mae_cv}\")\n",
    "print(f\"Mean Squared Error (MSE): {mse_cv}\")\n",
    "print(f\"Root Mean Squared Error (RMSE): {rmse_cv}\")\n",
    "print(f\"R-squared (R2-Score): {r2_cv}\")"
   ]
  },
  {
   "cell_type": "markdown",
   "id": "8248acef",
   "metadata": {},
   "source": [
    "## 2. Ridge Regression Model"
   ]
  },
  {
   "cell_type": "code",
   "execution_count": 61,
   "id": "1b2c814a",
   "metadata": {},
   "outputs": [
    {
     "name": "stdout",
     "output_type": "stream",
     "text": [
      "Mean Absolute Error: 1616.8172407508478\n",
      "Mean Squared Error: 4951214.74980568\n",
      "RMSE: 2225.13252409956\n",
      "R-squared: 0.7450075624792967\n"
     ]
    }
   ],
   "source": [
    "ridge_model = Ridge()\n",
    "ridge_model.fit(X_train_scaled, y_train)\n",
    "\n",
    "y_pred_ridge = ridge_model.predict(X_test_scaled)\n",
    "\n",
    "mae_ridge = mean_absolute_error(y_test, y_pred_ridge)\n",
    "mse_ridge = mean_squared_error(y_test, y_pred_ridge)\n",
    "mse_ridge = mean_squared_error(y_test, y_pred_ridge)\n",
    "rmse_ridge = mean_squared_error(y_test, y_pred_ridge, squared=False)\n",
    "r2_ridge= r2_score(y_test, y_pred_ridge)\n",
    "\n",
    "print(f\"Mean Absolute Error: {mae_ridge}\")\n",
    "print(f\"Mean Squared Error: {mse_ridge}\")\n",
    "print(f\"RMSE: {rmse_ridge}\")\n",
    "print(f\"R-squared: {r2_ridge}\")"
   ]
  },
  {
   "cell_type": "markdown",
   "id": "ef57bfa1",
   "metadata": {},
   "source": [
    "## Line plot of Actual Vs Predicted"
   ]
  },
  {
   "cell_type": "code",
   "execution_count": 87,
   "id": "af3b758d",
   "metadata": {},
   "outputs": [
    {
     "data": {
      "image/png": "[encoded data removed]",
      "text/plain": [
       "<Figure size 1000x600 with 1 Axes>"
      ]
     },
     "metadata": {},
     "output_type": "display_data"
    }
   ],
   "source": [
    "plt.figure(figsize=(10, 6))\n",
    "plt.plot([min(y_test), max(y_test)], [min(y_test), max(y_test)], linestyle='--', color='r')\n",
    "plt.scatter(y_test, y_pred_ridge)\n",
    "plt.xlabel(\"Actual Values\")\n",
    "plt.ylabel(\"Predicted Values\")\n",
    "plt.title(\"Actual vs Predicted Values - Ridge Regressor\")\n",
    "plt.show()"
   ]
  },
  {
   "cell_type": "markdown",
   "id": "f75bece6",
   "metadata": {},
   "source": [
    "## Feature Importance"
   ]
  },
  {
   "cell_type": "code",
   "execution_count": 64,
   "id": "e4ea0e55",
   "metadata": {},
   "outputs": [
    {
     "data": {
      "application/vnd.plotly.v1+json": {
       "config": {
        "plotlyServerURL": "https://plot.ly"
       },
       "data": [
        {
         "alignmentgroup": "True",
         "hovertemplate": "x=%{x}<br>y=%{y}<extra></extra>",
         "legendgroup": "",
         "marker": {
          "color": "#636efa",
          "pattern": {
           "shape": ""
          }
         },
         "name": "",
         "offsetgroup": "",
         "orientation": "h",
         "showlegend": false,
         "textposition": "auto",
         "type": "bar",
         "x": [
          1233.0000312976788,
          718.471723392892,
          1606.2645280800336,
          3.799792373097184,
          3.7997923731001144,
          0,
          1.0829991191810424,
          1.0829991176943792,
          43.69160571419851,
          401.1824680501275,
          269.55933199630675,
          78.33363121160004,
          209.16045535908674,
          119.40864418118665,
          4.307613298277965,
          250.66468396732614,
          145.59389047447732,
          145.59389047402527,
          26.56913393437839,
          23.7380844634423,
          16.336059475395697,
          50.9372195485936,
          50.88258456165768,
          35.653913172472855,
          131.12448454688493,
          143.38726503175528,
          10.746325344080024,
          298.7505717447491,
          34.10354557207611,
          0.4244811656974334,
          47.71833582358706,
          336.9969193698535,
          67.62464581490474,
          18.47161243932449,
          109.36771986800437,
          61.36579049238281,
          13.890628228705882,
          74.56987393143382,
          172.53616826752122,
          71.74877872430798,
          55.16058031704235,
          41.81169872830954,
          9.340531703034797,
          308.91317700665707,
          49.019052224340776,
          45.806748013243634,
          54.26237190617358,
          42.39683768951193,
          30.27376322399176,
          58.22497767263267,
          15.697673748313356,
          13.32162235795172,
          110.59922207194343,
          101.09701156843903,
          60.83563775555774,
          14.234431308343666,
          161.60117015775052,
          194.9557029984892,
          0,
          23.531077179236018,
          53.541165605604256,
          12.91391423354363,
          7.039916318326428,
          82.82320734384469,
          45.62705891768938,
          44.02804809427391,
          66.18578807428493,
          5.996972601309962,
          93.34136794106104,
          5.519651926650107,
          44.29168907035892,
          26.638158762955587,
          46.32027689948845,
          90.19543236461314,
          16.144467948298267,
          3.5994756383315396,
          41.26603842778781,
          66.14132542056983,
          7.918306656272188,
          15.51344854533982,
          9.654975512836012,
          16.866265528914834,
          93.45682437692645,
          62.47391952981884,
          18.035377487489136,
          116.39996172679948,
          56.09978840792478,
          11.453585175731694,
          5.929289384121783,
          50.823370359595835,
          146.71849612606547,
          67.6471132735775,
          2.443148851528069,
          11.170287944288072,
          7.833982398284584,
          55.24705523319421,
          47.98025095352627,
          11.303298155157414,
          62.35011368254103,
          11.694756495921187,
          45.26592043458224,
          1.5513922534468703,
          68.45122600867596,
          69.11521797723654,
          24.729460818795285,
          10.617183916215817,
          106.785102524765,
          99.90028935591327,
          49.013661867637715,
          25.359865107027392,
          19.0576313110003,
          97.55503908190654,
          197.63789928631365,
          16.60513435577473,
          13.759386117360995,
          19.485394362065463,
          0,
          139.8797778749859,
          30.279089567980776,
          55.29303378834702,
          64.18995381905152,
          92.17147069459239,
          137.47186125186616,
          33.917712994412405,
          128.27892141691177,
          28.99136413825819,
          96.80117516951638,
          20.080436167357472,
          19.497998719761963,
          26.4975690172056,
          20.42845968259721,
          22.95624054163252,
          123.2927286557961,
          0.34424039501733966,
          4.039552566975953,
          30.178968944126936,
          136.68340440883844,
          49.80449518812641,
          24.455312025298703,
          18.410985061091637,
          25.496789889880578,
          11.624798291576827,
          8.365313055716337,
          6.420223735490369,
          54.78149039869016,
          9.942300223108777,
          9.924314813135354,
          7.253628968827024,
          134.31020658968626,
          57.73677554412309,
          114.63987103265194,
          41.65004914449609,
          40.68883105260808,
          60.586886886829205,
          36.15291986624117,
          68.90805639931827,
          28.67476593865947,
          72.66662631930114,
          21.50367193553661,
          44.772760465566954,
          384.81921478865377,
          54.96893915106503,
          63.60769042448383,
          89.4263539236921,
          57.200607711323066,
          32.38313099263661,
          38.28800505991546,
          1.2512136192731282,
          225.31372640039618,
          35.94765457227023,
          13.982761066394996,
          39.59919651243277,
          12.787731200678909,
          121.97166213952508,
          164.47136159964577,
          78.8422213136644,
          42.16546177391861,
          72.89227793136327,
          18.59055172702367,
          24.287024306216704,
          106.47424449062602,
          3.2324416367924864,
          72.4117539175554,
          54.2021602122072,
          10.672032266946502,
          142.5528779660269,
          207.28078068174526,
          105.6163830192395,
          55.22834243716445,
          79.1685773691488,
          51.56884571254897,
          79.7390997969624,
          103.29862897392802,
          20.47185178636621,
          19.964524242797413,
          26.480577317386754,
          15.395806729156927,
          90.20494706556762,
          21.63854721235751,
          26.023694015162302,
          90.60693625188077,
          73.7339333202219,
          14.172550191587424,
          242.75006471384225,
          4.323214975658664,
          19.005103021745054,
          100.74020056126864,
          125.32648370725293,
          12.550650541093868,
          76.92330787791728,
          41.71286918808474,
          10.474701230313748,
          473.32181654091386,
          8.191944974226175,
          8.885030972202781,
          141.12026211612513,
          74.9726966889067,
          0.6820762762017045,
          42.63712552232298,
          59.70719278212843,
          13.897638656920813,
          18.769827252591337,
          34.3193106216453,
          73.68533387748458,
          53.381721983503645,
          130.54817607738997,
          40.793198626013776,
          18.690489256126792,
          79.97363033139447,
          316.59424471271853,
          1.7783649265219468,
          88.08075022914207,
          89.56625847281202,
          156.9622377854856,
          70.906632957566,
          21.831196952479896,
          70.86422396808686,
          11.437712241931225,
          95.41338999618006,
          24.128422320463855,
          96.85252305083468,
          3.0118785064085123,
          14.674467470265633,
          4.6448074054566995,
          45.266081893528415,
          161.33288148220362,
          822.1671906390222,
          248.66767920561557,
          284.5611609402797,
          168.00794860780243,
          181.44131239401554,
          244.60887642586033,
          18.58825919759827,
          88.47621412634501,
          344.51313420985167,
          360.6328796497014,
          82.90011990679982,
          282.4240803380764,
          166.3700724870335,
          24.360979325372018,
          280.3265444498836,
          113.59784668563795,
          5.974193757756697,
          68.60397795219501,
          196.01203535137046,
          843.551988592367,
          81.37257362768634,
          67.96622904129023,
          53.858923198053525,
          336.5470648387494,
          332.90947007621395,
          42.19620405959074,
          239.14894457722224,
          18.590551727454024,
          25.779003690212285,
          97.75809505743042,
          530.5749073693141,
          222.52465048222572,
          54.81594974540134,
          207.4537275778424,
          84.20298336477518,
          163.20399430069102,
          52.053149251991044,
          249.68426468698004,
          249.6842647181099
         ],
         "xaxis": "x",
         "y": [
          "powerPS_scaled",
          "kilometer_scaled",
          "age_of_car_scaled",
          "seller_commercial",
          "seller_private",
          "offerType_listing",
          "abtest_control",
          "abtest_test",
          "vehicleType_bus",
          "vehicleType_cabrio",
          "vehicleType_coupe",
          "vehicleType_kleinwagen",
          "vehicleType_kombi",
          "vehicleType_limousine",
          "vehicleType_others",
          "vehicleType_suv",
          "gearbox_automatic",
          "gearbox_manual",
          "model_100",
          "model_147",
          "model_156",
          "model_159",
          "model_1_reihe",
          "model_1er",
          "model_2_reihe",
          "model_300c",
          "model_3_reihe",
          "model_3er",
          "model_4_reihe",
          "model_500",
          "model_5_reihe",
          "model_5er",
          "model_6_reihe",
          "model_6er",
          "model_7er",
          "model_80",
          "model_900",
          "model_a1",
          "model_a3",
          "model_a4",
          "model_a5",
          "model_a6",
          "model_a8",
          "model_a_klasse",
          "model_accord",
          "model_agila",
          "model_alhambra",
          "model_almera",
          "model_altea",
          "model_amarok",
          "model_andere",
          "model_antara",
          "model_astra",
          "model_auris",
          "model_avensis",
          "model_aveo",
          "model_aygo",
          "model_b_klasse",
          "model_b_max",
          "model_beetle",
          "model_berlingo",
          "model_boxster",
          "model_bravo",
          "model_c1",
          "model_c2",
          "model_c3",
          "model_c4",
          "model_c5",
          "model_c_klasse",
          "model_c_max",
          "model_c_reihe",
          "model_caddy",
          "model_calibra",
          "model_captiva",
          "model_carisma",
          "model_carnival",
          "model_cayenne",
          "model_cc",
          "model_ceed",
          "model_cherokee",
          "model_civic",
          "model_cl",
          "model_clio",
          "model_clk",
          "model_clubman",
          "model_colt",
          "model_combo",
          "model_cooper",
          "model_cordoba",
          "model_corolla",
          "model_corsa",
          "model_cr_reihe",
          "model_croma",
          "model_crossfire",
          "model_cuore",
          "model_cx_reihe",
          "model_defender",
          "model_delta",
          "model_discovery",
          "model_doblo",
          "model_ducato",
          "model_duster",
          "model_e_klasse",
          "model_eos",
          "model_espace",
          "model_exeo",
          "model_fabia",
          "model_fiesta",
          "model_focus",
          "model_forester",
          "model_forfour",
          "model_fortwo",
          "model_fox",
          "model_freelander",
          "model_fusion",
          "model_g_klasse",
          "model_galant",
          "model_galaxy",
          "model_getz",
          "model_gl",
          "model_glk",
          "model_golf",
          "model_grand",
          "model_i_reihe",
          "model_ibiza",
          "model_impreza",
          "model_insignia",
          "model_jazz",
          "model_jetta",
          "model_jimny",
          "model_juke",
          "model_justy",
          "model_ka",
          "model_kaefer",
          "model_kalina",
          "model_kangoo",
          "model_kuga",
          "model_laguna",
          "model_lancer",
          "model_legacy",
          "model_leon",
          "model_lodgy",
          "model_logan",
          "model_lupo",
          "model_m_klasse",
          "model_m_reihe",
          "model_materia",
          "model_matiz",
          "model_megane",
          "model_meriva",
          "model_micra",
          "model_mii",
          "model_modus",
          "model_mondeo",
          "model_musa",
          "model_mustang",
          "model_mx_reihe",
          "model_navara",
          "model_niva",
          "model_note",
          "model_octavia",
          "model_one",
          "model_outlander",
          "model_pajero",
          "model_panda",
          "model_passat",
          "model_phaeton",
          "model_picanto",
          "model_polo",
          "model_primera",
          "model_ptcruiser",
          "model_punto",
          "model_q3",
          "model_q5",
          "model_q7",
          "model_qashqai",
          "model_range_rover",
          "model_range_rover_sport",
          "model_rangerover",
          "model_rav",
          "model_rio",
          "model_roadster",
          "model_roomster",
          "model_rx_reihe",
          "model_s60",
          "model_s_klasse",
          "model_s_max",
          "model_s_type",
          "model_sandero",
          "model_santa",
          "model_scenic",
          "model_scirocco",
          "model_sharan",
          "model_signum",
          "model_sirion",
          "model_sl",
          "model_slk",
          "model_sorento",
          "model_spark",
          "model_spider",
          "model_sportage",
          "model_sprinter",
          "model_stilo",
          "model_superb",
          "model_swift",
          "model_terios",
          "model_tigra",
          "model_tiguan",
          "model_toledo",
          "model_touareg",
          "model_touran",
          "model_transit",
          "model_transporter",
          "model_tt",
          "model_tucson",
          "model_twingo",
          "model_up",
          "model_v40",
          "model_v50",
          "model_v60",
          "model_v70",
          "model_v_klasse",
          "model_vectra",
          "model_verso",
          "model_viano",
          "model_vito",
          "model_vivaro",
          "model_voyager",
          "model_wrangler",
          "model_x_reihe",
          "model_x_trail",
          "model_x_type",
          "model_xc_reihe",
          "model_yaris",
          "model_yeti",
          "model_ypsilon",
          "model_z_reihe",
          "model_zafira",
          "fuelType_benzine",
          "fuelType_cng",
          "fuelType_diesel",
          "fuelType_electric",
          "fuelType_hybrid",
          "fuelType_lpg",
          "fuelType_others",
          "brand_alfa_romeo",
          "brand_audi",
          "brand_bmw",
          "brand_chevrolet",
          "brand_chrysler",
          "brand_citroen",
          "brand_dacia",
          "brand_daewoo",
          "brand_daihatsu",
          "brand_fiat",
          "brand_ford",
          "brand_honda",
          "brand_hyundai",
          "brand_jaguar",
          "brand_jeep",
          "brand_kia",
          "brand_lada",
          "brand_lancia",
          "brand_land_rover",
          "brand_mazda",
          "brand_mercedes_benz",
          "brand_mini",
          "brand_mitsubishi",
          "brand_nissan",
          "brand_opel",
          "brand_peugeot",
          "brand_porsche",
          "brand_renault",
          "brand_rover",
          "brand_saab",
          "brand_seat",
          "brand_skoda",
          "brand_smart",
          "brand_subaru",
          "brand_suzuki",
          "brand_toyota",
          "brand_volkswagen",
          "brand_volvo",
          "notRepairedDamage_no",
          "notRepairedDamage_yes"
         ],
         "yaxis": "y"
        }
       ],
       "layout": {
        "barmode": "relative",
        "legend": {
         "tracegroupgap": 0
        },
        "template": {
         "data": {
          "bar": [
           {
            "error_x": {
             "color": "#2a3f5f"
            },
            "error_y": {
             "color": "#2a3f5f"
            },
            "marker": {
             "line": {
              "color": "#E5ECF6",
              "width": 0.5
             },
             "pattern": {
              "fillmode": "overlay",
              "size": 10,
              "solidity": 0.2
             }
            },
            "type": "bar"
           }
          ],
          "barpolar": [
           {
            "marker": {
             "line": {
              "color": "#E5ECF6",
              "width": 0.5
             },
             "pattern": {
              "fillmode": "overlay",
              "size": 10,
              "solidity": 0.2
             }
            },
            "type": "barpolar"
           }
          ],
          "carpet": [
           {
            "aaxis": {
             "endlinecolor": "#2a3f5f",
             "gridcolor": "white",
             "linecolor": "white",
             "minorgridcolor": "white",
             "startlinecolor": "#2a3f5f"
            },
            "baxis": {
             "endlinecolor": "#2a3f5f",
             "gridcolor": "white",
             "linecolor": "white",
             "minorgridcolor": "white",
             "startlinecolor": "#2a3f5f"
            },
            "type": "carpet"
           }
          ],
          "choropleth": [
           {
            "colorbar": {
             "outlinewidth": 0,
             "ticks": ""
            },
            "type": "choropleth"
           }
          ],
          "contour": [
           {
            "colorbar": {
             "outlinewidth": 0,
             "ticks": ""
            },
            "colorscale": [
             [
              0,
              "#0d0887"
             ],
             [
              0.1111111111111111,
              "#46039f"
             ],
             [
              0.2222222222222222,
              "#7201a8"
             ],
             [
              0.3333333333333333,
              "#9c179e"
             ],
             [
              0.4444444444444444,
              "#bd3786"
             ],
             [
              0.5555555555555556,
              "#d8576b"
             ],
             [
              0.6666666666666666,
              "#ed7953"
             ],
             [
              0.7777777777777778,
              "#fb9f3a"
             ],
             [
              0.8888888888888888,
              "#fdca26"
             ],
             [
              1,
              "#f0f921"
             ]
            ],
            "type": "contour"
           }
          ],
          "contourcarpet": [
           {
            "colorbar": {
             "outlinewidth": 0,
             "ticks": ""
            },
            "type": "contourcarpet"
           }
          ],
          "heatmap": [
           {
            "colorbar": {
             "outlinewidth": 0,
             "ticks": ""
            },
            "colorscale": [
             [
              0,
              "#0d0887"
             ],
             [
              0.1111111111111111,
              "#46039f"
             ],
             [
              0.2222222222222222,
              "#7201a8"
             ],
             [
              0.3333333333333333,
              "#9c179e"
             ],
             [
              0.4444444444444444,
              "#bd3786"
             ],
             [
              0.5555555555555556,
              "#d8576b"
             ],
             [
              0.6666666666666666,
              "#ed7953"
             ],
             [
              0.7777777777777778,
              "#fb9f3a"
             ],
             [
              0.8888888888888888,
              "#fdca26"
             ],
             [
              1,
              "#f0f921"
             ]
            ],
            "type": "heatmap"
           }
          ],
          "heatmapgl": [
           {
            "colorbar": {
             "outlinewidth": 0,
             "ticks": ""
            },
            "colorscale": [
             [
              0,
              "#0d0887"
             ],
             [
              0.1111111111111111,
              "#46039f"
             ],
             [
              0.2222222222222222,
              "#7201a8"
             ],
             [
              0.3333333333333333,
              "#9c179e"
             ],
             [
              0.4444444444444444,
              "#bd3786"
             ],
             [
              0.5555555555555556,
              "#d8576b"
             ],
             [
              0.6666666666666666,
              "#ed7953"
             ],
             [
              0.7777777777777778,
              "#fb9f3a"
             ],
             [
              0.8888888888888888,
              "#fdca26"
             ],
             [
              1,
              "#f0f921"
             ]
            ],
            "type": "heatmapgl"
           }
          ],
          "histogram": [
           {
            "marker": {
             "pattern": {
              "fillmode": "overlay",
              "size": 10,
              "solidity": 0.2
             }
            },
            "type": "histogram"
           }
          ],
          "histogram2d": [
           {
            "colorbar": {
             "outlinewidth": 0,
             "ticks": ""
            },
            "colorscale": [
             [
              0,
              "#0d0887"
             ],
             [
              0.1111111111111111,
              "#46039f"
             ],
             [
              0.2222222222222222,
              "#7201a8"
             ],
             [
              0.3333333333333333,
              "#9c179e"
             ],
             [
              0.4444444444444444,
              "#bd3786"
             ],
             [
              0.5555555555555556,
              "#d8576b"
             ],
             [
              0.6666666666666666,
              "#ed7953"
             ],
             [
              0.7777777777777778,
              "#fb9f3a"
             ],
             [
              0.8888888888888888,
              "#fdca26"
             ],
             [
              1,
              "#f0f921"
             ]
            ],
            "type": "histogram2d"
           }
          ],
          "histogram2dcontour": [
           {
            "colorbar": {
             "outlinewidth": 0,
             "ticks": ""
            },
            "colorscale": [
             [
              0,
              "#0d0887"
             ],
             [
              0.1111111111111111,
              "#46039f"
             ],
             [
              0.2222222222222222,
              "#7201a8"
             ],
             [
              0.3333333333333333,
              "#9c179e"
             ],
             [
              0.4444444444444444,
              "#bd3786"
             ],
             [
              0.5555555555555556,
              "#d8576b"
             ],
             [
              0.6666666666666666,
              "#ed7953"
             ],
             [
              0.7777777777777778,
              "#fb9f3a"
             ],
             [
              0.8888888888888888,
              "#fdca26"
             ],
             [
              1,
              "#f0f921"
             ]
            ],
            "type": "histogram2dcontour"
           }
          ],
          "mesh3d": [
           {
            "colorbar": {
             "outlinewidth": 0,
             "ticks": ""
            },
            "type": "mesh3d"
           }
          ],
          "parcoords": [
           {
            "line": {
             "colorbar": {
              "outlinewidth": 0,
              "ticks": ""
             }
            },
            "type": "parcoords"
           }
          ],
          "pie": [
           {
            "automargin": true,
            "type": "pie"
           }
          ],
          "scatter": [
           {
            "fillpattern": {
             "fillmode": "overlay",
             "size": 10,
             "solidity": 0.2
            },
            "type": "scatter"
           }
          ],
          "scatter3d": [
           {
            "line": {
             "colorbar": {
              "outlinewidth": 0,
              "ticks": ""
             }
            },
            "marker": {
             "colorbar": {
              "outlinewidth": 0,
              "ticks": ""
             }
            },
            "type": "scatter3d"
           }
          ],
          "scattercarpet": [
           {
            "marker": {
             "colorbar": {
              "outlinewidth": 0,
              "ticks": ""
             }
            },
            "type": "scattercarpet"
           }
          ],
          "scattergeo": [
           {
            "marker": {
             "colorbar": {
              "outlinewidth": 0,
              "ticks": ""
             }
            },
            "type": "scattergeo"
           }
          ],
          "scattergl": [
           {
            "marker": {
             "colorbar": {
              "outlinewidth": 0,
              "ticks": ""
             }
            },
            "type": "scattergl"
           }
          ],
          "scattermapbox": [
           {
            "marker": {
             "colorbar": {
              "outlinewidth": 0,
              "ticks": ""
             }
            },
            "type": "scattermapbox"
           }
          ],
          "scatterpolar": [
           {
            "marker": {
             "colorbar": {
              "outlinewidth": 0,
              "ticks": ""
             }
            },
            "type": "scatterpolar"
           }
          ],
          "scatterpolargl": [
           {
            "marker": {
             "colorbar": {
              "outlinewidth": 0,
              "ticks": ""
             }
            },
            "type": "scatterpolargl"
           }
          ],
          "scatterternary": [
           {
            "marker": {
             "colorbar": {
              "outlinewidth": 0,
              "ticks": ""
             }
            },
            "type": "scatterternary"
           }
          ],
          "surface": [
           {
            "colorbar": {
             "outlinewidth": 0,
             "ticks": ""
            },
            "colorscale": [
             [
              0,
              "#0d0887"
             ],
             [
              0.1111111111111111,
              "#46039f"
             ],
             [
              0.2222222222222222,
              "#7201a8"
             ],
             [
              0.3333333333333333,
              "#9c179e"
             ],
             [
              0.4444444444444444,
              "#bd3786"
             ],
             [
              0.5555555555555556,
              "#d8576b"
             ],
             [
              0.6666666666666666,
              "#ed7953"
             ],
             [
              0.7777777777777778,
              "#fb9f3a"
             ],
             [
              0.8888888888888888,
              "#fdca26"
             ],
             [
              1,
              "#f0f921"
             ]
            ],
            "type": "surface"
           }
          ],
          "table": [
           {
            "cells": {
             "fill": {
              "color": "#EBF0F8"
             },
             "line": {
              "color": "white"
             }
            },
            "header": {
             "fill": {
              "color": "#C8D4E3"
             },
             "line": {
              "color": "white"
             }
            },
            "type": "table"
           }
          ]
         },
         "layout": {
          "annotationdefaults": {
           "arrowcolor": "#2a3f5f",
           "arrowhead": 0,
           "arrowwidth": 1
          },
          "autotypenumbers": "strict",
          "coloraxis": {
           "colorbar": {
            "outlinewidth": 0,
            "ticks": ""
           }
          },
          "colorscale": {
           "diverging": [
            [
             0,
             "#8e0152"
            ],
            [
             0.1,
             "#c51b7d"
            ],
            [
             0.2,
             "#de77ae"
            ],
            [
             0.3,
             "#f1b6da"
            ],
            [
             0.4,
             "#fde0ef"
            ],
            [
             0.5,
             "#f7f7f7"
            ],
            [
             0.6,
             "#e6f5d0"
            ],
            [
             0.7,
             "#b8e186"
            ],
            [
             0.8,
             "#7fbc41"
            ],
            [
             0.9,
             "#4d9221"
            ],
            [
             1,
             "#276419"
            ]
           ],
           "sequential": [
            [
             0,
             "#0d0887"
            ],
            [
             0.1111111111111111,
             "#46039f"
            ],
            [
             0.2222222222222222,
             "#7201a8"
            ],
            [
             0.3333333333333333,
             "#9c179e"
            ],
            [
             0.4444444444444444,
             "#bd3786"
            ],
            [
             0.5555555555555556,
             "#d8576b"
            ],
            [
             0.6666666666666666,
             "#ed7953"
            ],
            [
             0.7777777777777778,
             "#fb9f3a"
            ],
            [
             0.8888888888888888,
             "#fdca26"
            ],
            [
             1,
             "#f0f921"
            ]
           ],
           "sequentialminus": [
            [
             0,
             "#0d0887"
            ],
            [
             0.1111111111111111,
             "#46039f"
            ],
            [
             0.2222222222222222,
             "#7201a8"
            ],
            [
             0.3333333333333333,
             "#9c179e"
            ],
            [
             0.4444444444444444,
             "#bd3786"
            ],
            [
             0.5555555555555556,
             "#d8576b"
            ],
            [
             0.6666666666666666,
             "#ed7953"
            ],
            [
             0.7777777777777778,
             "#fb9f3a"
            ],
            [
             0.8888888888888888,
             "#fdca26"
            ],
            [
             1,
             "#f0f921"
            ]
           ]
          },
          "colorway": [
           "#636efa",
           "#EF553B",
           "#00cc96",
           "#ab63fa",
           "#FFA15A",
           "#19d3f3",
           "#FF6692",
           "#B6E880",
           "#FF97FF",
           "#FECB52"
          ],
          "font": {
           "color": "#2a3f5f"
          },
          "geo": {
           "bgcolor": "white",
           "lakecolor": "white",
           "landcolor": "#E5ECF6",
           "showlakes": true,
           "showland": true,
           "subunitcolor": "white"
          },
          "hoverlabel": {
           "align": "left"
          },
          "hovermode": "closest",
          "mapbox": {
           "style": "light"
          },
          "paper_bgcolor": "white",
          "plot_bgcolor": "#E5ECF6",
          "polar": {
           "angularaxis": {
            "gridcolor": "white",
            "linecolor": "white",
            "ticks": ""
           },
           "bgcolor": "#E5ECF6",
           "radialaxis": {
            "gridcolor": "white",
            "linecolor": "white",
            "ticks": ""
           }
          },
          "scene": {
           "xaxis": {
            "backgroundcolor": "#E5ECF6",
            "gridcolor": "white",
            "gridwidth": 2,
            "linecolor": "white",
            "showbackground": true,
            "ticks": "",
            "zerolinecolor": "white"
           },
           "yaxis": {
            "backgroundcolor": "#E5ECF6",
            "gridcolor": "white",
            "gridwidth": 2,
            "linecolor": "white",
            "showbackground": true,
            "ticks": "",
            "zerolinecolor": "white"
           },
           "zaxis": {
            "backgroundcolor": "#E5ECF6",
            "gridcolor": "white",
            "gridwidth": 2,
            "linecolor": "white",
            "showbackground": true,
            "ticks": "",
            "zerolinecolor": "white"
           }
          },
          "shapedefaults": {
           "line": {
            "color": "#2a3f5f"
           }
          },
          "ternary": {
           "aaxis": {
            "gridcolor": "white",
            "linecolor": "white",
            "ticks": ""
           },
           "baxis": {
            "gridcolor": "white",
            "linecolor": "white",
            "ticks": ""
           },
           "bgcolor": "#E5ECF6",
           "caxis": {
            "gridcolor": "white",
            "linecolor": "white",
            "ticks": ""
           }
          },
          "title": {
           "x": 0.05
          },
          "xaxis": {
           "automargin": true,
           "gridcolor": "white",
           "linecolor": "white",
           "ticks": "",
           "title": {
            "standoff": 15
           },
           "zerolinecolor": "white",
           "zerolinewidth": 2
          },
          "yaxis": {
           "automargin": true,
           "gridcolor": "white",
           "linecolor": "white",
           "ticks": "",
           "title": {
            "standoff": 15
           },
           "zerolinecolor": "white",
           "zerolinewidth": 2
          }
         }
        },
        "title": {
         "text": "Ridge Regression - Feature Importance"
        },
        "xaxis": {
         "anchor": "y",
         "domain": [
          0,
          1
         ],
         "title": {
          "text": "Coefficient Magnitude"
         }
        },
        "yaxis": {
         "anchor": "x",
         "categoryorder": "total ascending",
         "domain": [
          0,
          1
         ],
         "title": {
          "text": "Features"
         }
        }
       }
      },
      "text/html": [
       "<div>                            <div id=\"e22526b1-1076-4639-9e79-86717ec15048\" class=\"plotly-graph-div\" style=\"height:525px; width:100%;\"></div>            <script type=\"text/javascript\">                require([\"plotly\"], function(Plotly) {                    window.PLOTLYENV=window.PLOTLYENV || {};                                    if (document.getElementById(\"e22526b1-1076-4639-9e79-86717ec15048\")) {                    Plotly.newPlot(                        \"e22526b1-1076-4639-9e79-86717ec15048\",                        [{\"alignmentgroup\":\"True\",\"hovertemplate\":\"x=%{x}<br>y=%{y}<extra></extra>\",\"legendgroup\":\"\",\"marker\":{\"color\":\"#636efa\",\"pattern\":{\"shape\":\"\"}},\"name\":\"\",\"offsetgroup\":\"\",\"orientation\":\"h\",\"showlegend\":false,\"textposition\":\"auto\",\"x\":[1233.0000312976788,718.471723392892,1606.2645280800336,3.799792373097184,3.7997923731001144,0.0,1.0829991191810424,1.0829991176943792,43.69160571419851,401.1824680501275,269.55933199630675,78.33363121160004,209.16045535908674,119.40864418118665,4.307613298277965,250.66468396732614,145.59389047447732,145.59389047402527,26.56913393437839,23.7380844634423,16.336059475395697,50.9372195485936,50.88258456165768,35.653913172472855,131.12448454688493,143.38726503175528,10.746325344080024,298.7505717447491,34.10354557207611,0.4244811656974334,47.71833582358706,336.9969193698535,67.62464581490474,18.47161243932449,109.36771986800437,61.36579049238281,13.890628228705882,74.56987393143382,172.53616826752122,71.74877872430798,55.16058031704235,41.81169872830954,9.340531703034797,308.91317700665707,49.019052224340776,45.806748013243634,54.26237190617358,42.39683768951193,30.27376322399176,58.22497767263267,15.697673748313356,13.32162235795172,110.59922207194343,101.09701156843903,60.83563775555774,14.234431308343666,161.60117015775052,194.9557029984892,0.0,23.531077179236018,53.541165605604256,12.91391423354363,7.039916318326428,82.82320734384469,45.62705891768938,44.02804809427391,66.18578807428493,5.996972601309962,93.34136794106104,5.519651926650107,44.29168907035892,26.638158762955587,46.32027689948845,90.19543236461314,16.144467948298267,3.5994756383315396,41.26603842778781,66.14132542056983,7.918306656272188,15.51344854533982,9.654975512836012,16.866265528914834,93.45682437692645,62.47391952981884,18.035377487489136,116.39996172679948,56.09978840792478,11.453585175731694,5.929289384121783,50.823370359595835,146.71849612606547,67.6471132735775,2.443148851528069,11.170287944288072,7.833982398284584,55.24705523319421,47.98025095352627,11.303298155157414,62.35011368254103,11.694756495921187,45.26592043458224,1.5513922534468703,68.45122600867596,69.11521797723654,24.729460818795285,10.617183916215817,106.785102524765,99.90028935591327,49.013661867637715,25.359865107027392,19.0576313110003,97.55503908190654,197.63789928631365,16.60513435577473,13.759386117360995,19.485394362065463,0.0,139.8797778749859,30.279089567980776,55.29303378834702,64.18995381905152,92.17147069459239,137.47186125186616,33.917712994412405,128.27892141691177,28.99136413825819,96.80117516951638,20.080436167357472,19.497998719761963,26.4975690172056,20.42845968259721,22.95624054163252,123.2927286557961,0.34424039501733966,4.039552566975953,30.178968944126936,136.68340440883844,49.80449518812641,24.455312025298703,18.410985061091637,25.496789889880578,11.624798291576827,8.365313055716337,6.420223735490369,54.78149039869016,9.942300223108777,9.924314813135354,7.253628968827024,134.31020658968626,57.73677554412309,114.63987103265194,41.65004914449609,40.68883105260808,60.586886886829205,36.15291986624117,68.90805639931827,28.67476593865947,72.66662631930114,21.50367193553661,44.772760465566954,384.81921478865377,54.96893915106503,63.60769042448383,89.4263539236921,57.200607711323066,32.38313099263661,38.28800505991546,1.2512136192731282,225.31372640039618,35.94765457227023,13.982761066394996,39.59919651243277,12.787731200678909,121.97166213952508,164.47136159964577,78.8422213136644,42.16546177391861,72.89227793136327,18.59055172702367,24.287024306216704,106.47424449062602,3.2324416367924864,72.4117539175554,54.2021602122072,10.672032266946502,142.5528779660269,207.28078068174526,105.6163830192395,55.22834243716445,79.1685773691488,51.56884571254897,79.7390997969624,103.29862897392802,20.47185178636621,19.964524242797413,26.480577317386754,15.395806729156927,90.20494706556762,21.63854721235751,26.023694015162302,90.60693625188077,73.7339333202219,14.172550191587424,242.75006471384225,4.323214975658664,19.005103021745054,100.74020056126864,125.32648370725293,12.550650541093868,76.92330787791728,41.71286918808474,10.474701230313748,473.32181654091386,8.191944974226175,8.885030972202781,141.12026211612513,74.9726966889067,0.6820762762017045,42.63712552232298,59.70719278212843,13.897638656920813,18.769827252591337,34.3193106216453,73.68533387748458,53.381721983503645,130.54817607738997,40.793198626013776,18.690489256126792,79.97363033139447,316.59424471271853,1.7783649265219468,88.08075022914207,89.56625847281202,156.9622377854856,70.906632957566,21.831196952479896,70.86422396808686,11.437712241931225,95.41338999618006,24.128422320463855,96.85252305083468,3.0118785064085123,14.674467470265633,4.6448074054566995,45.266081893528415,161.33288148220362,822.1671906390222,248.66767920561557,284.5611609402797,168.00794860780243,181.44131239401554,244.60887642586033,18.58825919759827,88.47621412634501,344.51313420985167,360.6328796497014,82.90011990679982,282.4240803380764,166.3700724870335,24.360979325372018,280.3265444498836,113.59784668563795,5.974193757756697,68.60397795219501,196.01203535137046,843.551988592367,81.37257362768634,67.96622904129023,53.858923198053525,336.5470648387494,332.90947007621395,42.19620405959074,239.14894457722224,18.590551727454024,25.779003690212285,97.75809505743042,530.5749073693141,222.52465048222572,54.81594974540134,207.4537275778424,84.20298336477518,163.20399430069102,52.053149251991044,249.68426468698004,249.6842647181099],\"xaxis\":\"x\",\"y\":[\"powerPS_scaled\",\"kilometer_scaled\",\"age_of_car_scaled\",\"seller_commercial\",\"seller_private\",\"offerType_listing\",\"abtest_control\",\"abtest_test\",\"vehicleType_bus\",\"vehicleType_cabrio\",\"vehicleType_coupe\",\"vehicleType_kleinwagen\",\"vehicleType_kombi\",\"vehicleType_limousine\",\"vehicleType_others\",\"vehicleType_suv\",\"gearbox_automatic\",\"gearbox_manual\",\"model_100\",\"model_147\",\"model_156\",\"model_159\",\"model_1_reihe\",\"model_1er\",\"model_2_reihe\",\"model_300c\",\"model_3_reihe\",\"model_3er\",\"model_4_reihe\",\"model_500\",\"model_5_reihe\",\"model_5er\",\"model_6_reihe\",\"model_6er\",\"model_7er\",\"model_80\",\"model_900\",\"model_a1\",\"model_a3\",\"model_a4\",\"model_a5\",\"model_a6\",\"model_a8\",\"model_a_klasse\",\"model_accord\",\"model_agila\",\"model_alhambra\",\"model_almera\",\"model_altea\",\"model_amarok\",\"model_andere\",\"model_antara\",\"model_astra\",\"model_auris\",\"model_avensis\",\"model_aveo\",\"model_aygo\",\"model_b_klasse\",\"model_b_max\",\"model_beetle\",\"model_berlingo\",\"model_boxster\",\"model_bravo\",\"model_c1\",\"model_c2\",\"model_c3\",\"model_c4\",\"model_c5\",\"model_c_klasse\",\"model_c_max\",\"model_c_reihe\",\"model_caddy\",\"model_calibra\",\"model_captiva\",\"model_carisma\",\"model_carnival\",\"model_cayenne\",\"model_cc\",\"model_ceed\",\"model_cherokee\",\"model_civic\",\"model_cl\",\"model_clio\",\"model_clk\",\"model_clubman\",\"model_colt\",\"model_combo\",\"model_cooper\",\"model_cordoba\",\"model_corolla\",\"model_corsa\",\"model_cr_reihe\",\"model_croma\",\"model_crossfire\",\"model_cuore\",\"model_cx_reihe\",\"model_defender\",\"model_delta\",\"model_discovery\",\"model_doblo\",\"model_ducato\",\"model_duster\",\"model_e_klasse\",\"model_eos\",\"model_espace\",\"model_exeo\",\"model_fabia\",\"model_fiesta\",\"model_focus\",\"model_forester\",\"model_forfour\",\"model_fortwo\",\"model_fox\",\"model_freelander\",\"model_fusion\",\"model_g_klasse\",\"model_galant\",\"model_galaxy\",\"model_getz\",\"model_gl\",\"model_glk\",\"model_golf\",\"model_grand\",\"model_i_reihe\",\"model_ibiza\",\"model_impreza\",\"model_insignia\",\"model_jazz\",\"model_jetta\",\"model_jimny\",\"model_juke\",\"model_justy\",\"model_ka\",\"model_kaefer\",\"model_kalina\",\"model_kangoo\",\"model_kuga\",\"model_laguna\",\"model_lancer\",\"model_legacy\",\"model_leon\",\"model_lodgy\",\"model_logan\",\"model_lupo\",\"model_m_klasse\",\"model_m_reihe\",\"model_materia\",\"model_matiz\",\"model_megane\",\"model_meriva\",\"model_micra\",\"model_mii\",\"model_modus\",\"model_mondeo\",\"model_musa\",\"model_mustang\",\"model_mx_reihe\",\"model_navara\",\"model_niva\",\"model_note\",\"model_octavia\",\"model_one\",\"model_outlander\",\"model_pajero\",\"model_panda\",\"model_passat\",\"model_phaeton\",\"model_picanto\",\"model_polo\",\"model_primera\",\"model_ptcruiser\",\"model_punto\",\"model_q3\",\"model_q5\",\"model_q7\",\"model_qashqai\",\"model_range_rover\",\"model_range_rover_sport\",\"model_rangerover\",\"model_rav\",\"model_rio\",\"model_roadster\",\"model_roomster\",\"model_rx_reihe\",\"model_s60\",\"model_s_klasse\",\"model_s_max\",\"model_s_type\",\"model_sandero\",\"model_santa\",\"model_scenic\",\"model_scirocco\",\"model_sharan\",\"model_signum\",\"model_sirion\",\"model_sl\",\"model_slk\",\"model_sorento\",\"model_spark\",\"model_spider\",\"model_sportage\",\"model_sprinter\",\"model_stilo\",\"model_superb\",\"model_swift\",\"model_terios\",\"model_tigra\",\"model_tiguan\",\"model_toledo\",\"model_touareg\",\"model_touran\",\"model_transit\",\"model_transporter\",\"model_tt\",\"model_tucson\",\"model_twingo\",\"model_up\",\"model_v40\",\"model_v50\",\"model_v60\",\"model_v70\",\"model_v_klasse\",\"model_vectra\",\"model_verso\",\"model_viano\",\"model_vito\",\"model_vivaro\",\"model_voyager\",\"model_wrangler\",\"model_x_reihe\",\"model_x_trail\",\"model_x_type\",\"model_xc_reihe\",\"model_yaris\",\"model_yeti\",\"model_ypsilon\",\"model_z_reihe\",\"model_zafira\",\"fuelType_benzine\",\"fuelType_cng\",\"fuelType_diesel\",\"fuelType_electric\",\"fuelType_hybrid\",\"fuelType_lpg\",\"fuelType_others\",\"brand_alfa_romeo\",\"brand_audi\",\"brand_bmw\",\"brand_chevrolet\",\"brand_chrysler\",\"brand_citroen\",\"brand_dacia\",\"brand_daewoo\",\"brand_daihatsu\",\"brand_fiat\",\"brand_ford\",\"brand_honda\",\"brand_hyundai\",\"brand_jaguar\",\"brand_jeep\",\"brand_kia\",\"brand_lada\",\"brand_lancia\",\"brand_land_rover\",\"brand_mazda\",\"brand_mercedes_benz\",\"brand_mini\",\"brand_mitsubishi\",\"brand_nissan\",\"brand_opel\",\"brand_peugeot\",\"brand_porsche\",\"brand_renault\",\"brand_rover\",\"brand_saab\",\"brand_seat\",\"brand_skoda\",\"brand_smart\",\"brand_subaru\",\"brand_suzuki\",\"brand_toyota\",\"brand_volkswagen\",\"brand_volvo\",\"notRepairedDamage_no\",\"notRepairedDamage_yes\"],\"yaxis\":\"y\",\"type\":\"bar\"}],                        {\"template\":{\"data\":{\"histogram2dcontour\":[{\"type\":\"histogram2dcontour\",\"colorbar\":{\"outlinewidth\":0,\"ticks\":\"\"},\"colorscale\":[[0.0,\"#0d0887\"],[0.1111111111111111,\"#46039f\"],[0.2222222222222222,\"#7201a8\"],[0.3333333333333333,\"#9c179e\"],[0.4444444444444444,\"#bd3786\"],[0.5555555555555556,\"#d8576b\"],[0.6666666666666666,\"#ed7953\"],[0.7777777777777778,\"#fb9f3a\"],[0.8888888888888888,\"#fdca26\"],[1.0,\"#f0f921\"]]}],\"choropleth\":[{\"type\":\"choropleth\",\"colorbar\":{\"outlinewidth\":0,\"ticks\":\"\"}}],\"histogram2d\":[{\"type\":\"histogram2d\",\"colorbar\":{\"outlinewidth\":0,\"ticks\":\"\"},\"colorscale\":[[0.0,\"#0d0887\"],[0.1111111111111111,\"#46039f\"],[0.2222222222222222,\"#7201a8\"],[0.3333333333333333,\"#9c179e\"],[0.4444444444444444,\"#bd3786\"],[0.5555555555555556,\"#d8576b\"],[0.6666666666666666,\"#ed7953\"],[0.7777777777777778,\"#fb9f3a\"],[0.8888888888888888,\"#fdca26\"],[1.0,\"#f0f921\"]]}],\"heatmap\":[{\"type\":\"heatmap\",\"colorbar\":{\"outlinewidth\":0,\"ticks\":\"\"},\"colorscale\":[[0.0,\"#0d0887\"],[0.1111111111111111,\"#46039f\"],[0.2222222222222222,\"#7201a8\"],[0.3333333333333333,\"#9c179e\"],[0.4444444444444444,\"#bd3786\"],[0.5555555555555556,\"#d8576b\"],[0.6666666666666666,\"#ed7953\"],[0.7777777777777778,\"#fb9f3a\"],[0.8888888888888888,\"#fdca26\"],[1.0,\"#f0f921\"]]}],\"heatmapgl\":[{\"type\":\"heatmapgl\",\"colorbar\":{\"outlinewidth\":0,\"ticks\":\"\"},\"colorscale\":[[0.0,\"#0d0887\"],[0.1111111111111111,\"#46039f\"],[0.2222222222222222,\"#7201a8\"],[0.3333333333333333,\"#9c179e\"],[0.4444444444444444,\"#bd3786\"],[0.5555555555555556,\"#d8576b\"],[0.6666666666666666,\"#ed7953\"],[0.7777777777777778,\"#fb9f3a\"],[0.8888888888888888,\"#fdca26\"],[1.0,\"#f0f921\"]]}],\"contourcarpet\":[{\"type\":\"contourcarpet\",\"colorbar\":{\"outlinewidth\":0,\"ticks\":\"\"}}],\"contour\":[{\"type\":\"contour\",\"colorbar\":{\"outlinewidth\":0,\"ticks\":\"\"},\"colorscale\":[[0.0,\"#0d0887\"],[0.1111111111111111,\"#46039f\"],[0.2222222222222222,\"#7201a8\"],[0.3333333333333333,\"#9c179e\"],[0.4444444444444444,\"#bd3786\"],[0.5555555555555556,\"#d8576b\"],[0.6666666666666666,\"#ed7953\"],[0.7777777777777778,\"#fb9f3a\"],[0.8888888888888888,\"#fdca26\"],[1.0,\"#f0f921\"]]}],\"surface\":[{\"type\":\"surface\",\"colorbar\":{\"outlinewidth\":0,\"ticks\":\"\"},\"colorscale\":[[0.0,\"#0d0887\"],[0.1111111111111111,\"#46039f\"],[0.2222222222222222,\"#7201a8\"],[0.3333333333333333,\"#9c179e\"],[0.4444444444444444,\"#bd3786\"],[0.5555555555555556,\"#d8576b\"],[0.6666666666666666,\"#ed7953\"],[0.7777777777777778,\"#fb9f3a\"],[0.8888888888888888,\"#fdca26\"],[1.0,\"#f0f921\"]]}],\"mesh3d\":[{\"type\":\"mesh3d\",\"colorbar\":{\"outlinewidth\":0,\"ticks\":\"\"}}],\"scatter\":[{\"fillpattern\":{\"fillmode\":\"overlay\",\"size\":10,\"solidity\":0.2},\"type\":\"scatter\"}],\"parcoords\":[{\"type\":\"parcoords\",\"line\":{\"colorbar\":{\"outlinewidth\":0,\"ticks\":\"\"}}}],\"scatterpolargl\":[{\"type\":\"scatterpolargl\",\"marker\":{\"colorbar\":{\"outlinewidth\":0,\"ticks\":\"\"}}}],\"bar\":[{\"error_x\":{\"color\":\"#2a3f5f\"},\"error_y\":{\"color\":\"#2a3f5f\"},\"marker\":{\"line\":{\"color\":\"#E5ECF6\",\"width\":0.5},\"pattern\":{\"fillmode\":\"overlay\",\"size\":10,\"solidity\":0.2}},\"type\":\"bar\"}],\"scattergeo\":[{\"type\":\"scattergeo\",\"marker\":{\"colorbar\":{\"outlinewidth\":0,\"ticks\":\"\"}}}],\"scatterpolar\":[{\"type\":\"scatterpolar\",\"marker\":{\"colorbar\":{\"outlinewidth\":0,\"ticks\":\"\"}}}],\"histogram\":[{\"marker\":{\"pattern\":{\"fillmode\":\"overlay\",\"size\":10,\"solidity\":0.2}},\"type\":\"histogram\"}],\"scattergl\":[{\"type\":\"scattergl\",\"marker\":{\"colorbar\":{\"outlinewidth\":0,\"ticks\":\"\"}}}],\"scatter3d\":[{\"type\":\"scatter3d\",\"line\":{\"colorbar\":{\"outlinewidth\":0,\"ticks\":\"\"}},\"marker\":{\"colorbar\":{\"outlinewidth\":0,\"ticks\":\"\"}}}],\"scattermapbox\":[{\"type\":\"scattermapbox\",\"marker\":{\"colorbar\":{\"outlinewidth\":0,\"ticks\":\"\"}}}],\"scatterternary\":[{\"type\":\"scatterternary\",\"marker\":{\"colorbar\":{\"outlinewidth\":0,\"ticks\":\"\"}}}],\"scattercarpet\":[{\"type\":\"scattercarpet\",\"marker\":{\"colorbar\":{\"outlinewidth\":0,\"ticks\":\"\"}}}],\"carpet\":[{\"aaxis\":{\"endlinecolor\":\"#2a3f5f\",\"gridcolor\":\"white\",\"linecolor\":\"white\",\"minorgridcolor\":\"white\",\"startlinecolor\":\"#2a3f5f\"},\"baxis\":{\"endlinecolor\":\"#2a3f5f\",\"gridcolor\":\"white\",\"linecolor\":\"white\",\"minorgridcolor\":\"white\",\"startlinecolor\":\"#2a3f5f\"},\"type\":\"carpet\"}],\"table\":[{\"cells\":{\"fill\":{\"color\":\"#EBF0F8\"},\"line\":{\"color\":\"white\"}},\"header\":{\"fill\":{\"color\":\"#C8D4E3\"},\"line\":{\"color\":\"white\"}},\"type\":\"table\"}],\"barpolar\":[{\"marker\":{\"line\":{\"color\":\"#E5ECF6\",\"width\":0.5},\"pattern\":{\"fillmode\":\"overlay\",\"size\":10,\"solidity\":0.2}},\"type\":\"barpolar\"}],\"pie\":[{\"automargin\":true,\"type\":\"pie\"}]},\"layout\":{\"autotypenumbers\":\"strict\",\"colorway\":[\"#636efa\",\"#EF553B\",\"#00cc96\",\"#ab63fa\",\"#FFA15A\",\"#19d3f3\",\"#FF6692\",\"#B6E880\",\"#FF97FF\",\"#FECB52\"],\"font\":{\"color\":\"#2a3f5f\"},\"hovermode\":\"closest\",\"hoverlabel\":{\"align\":\"left\"},\"paper_bgcolor\":\"white\",\"plot_bgcolor\":\"#E5ECF6\",\"polar\":{\"bgcolor\":\"#E5ECF6\",\"angularaxis\":{\"gridcolor\":\"white\",\"linecolor\":\"white\",\"ticks\":\"\"},\"radialaxis\":{\"gridcolor\":\"white\",\"linecolor\":\"white\",\"ticks\":\"\"}},\"ternary\":{\"bgcolor\":\"#E5ECF6\",\"aaxis\":{\"gridcolor\":\"white\",\"linecolor\":\"white\",\"ticks\":\"\"},\"baxis\":{\"gridcolor\":\"white\",\"linecolor\":\"white\",\"ticks\":\"\"},\"caxis\":{\"gridcolor\":\"white\",\"linecolor\":\"white\",\"ticks\":\"\"}},\"coloraxis\":{\"colorbar\":{\"outlinewidth\":0,\"ticks\":\"\"}},\"colorscale\":{\"sequential\":[[0.0,\"#0d0887\"],[0.1111111111111111,\"#46039f\"],[0.2222222222222222,\"#7201a8\"],[0.3333333333333333,\"#9c179e\"],[0.4444444444444444,\"#bd3786\"],[0.5555555555555556,\"#d8576b\"],[0.6666666666666666,\"#ed7953\"],[0.7777777777777778,\"#fb9f3a\"],[0.8888888888888888,\"#fdca26\"],[1.0,\"#f0f921\"]],\"sequentialminus\":[[0.0,\"#0d0887\"],[0.1111111111111111,\"#46039f\"],[0.2222222222222222,\"#7201a8\"],[0.3333333333333333,\"#9c179e\"],[0.4444444444444444,\"#bd3786\"],[0.5555555555555556,\"#d8576b\"],[0.6666666666666666,\"#ed7953\"],[0.7777777777777778,\"#fb9f3a\"],[0.8888888888888888,\"#fdca26\"],[1.0,\"#f0f921\"]],\"diverging\":[[0,\"#8e0152\"],[0.1,\"#c51b7d\"],[0.2,\"#de77ae\"],[0.3,\"#f1b6da\"],[0.4,\"#fde0ef\"],[0.5,\"#f7f7f7\"],[0.6,\"#e6f5d0\"],[0.7,\"#b8e186\"],[0.8,\"#7fbc41\"],[0.9,\"#4d9221\"],[1,\"#276419\"]]},\"xaxis\":{\"gridcolor\":\"white\",\"linecolor\":\"white\",\"ticks\":\"\",\"title\":{\"standoff\":15},\"zerolinecolor\":\"white\",\"automargin\":true,\"zerolinewidth\":2},\"yaxis\":{\"gridcolor\":\"white\",\"linecolor\":\"white\",\"ticks\":\"\",\"title\":{\"standoff\":15},\"zerolinecolor\":\"white\",\"automargin\":true,\"zerolinewidth\":2},\"scene\":{\"xaxis\":{\"backgroundcolor\":\"#E5ECF6\",\"gridcolor\":\"white\",\"linecolor\":\"white\",\"showbackground\":true,\"ticks\":\"\",\"zerolinecolor\":\"white\",\"gridwidth\":2},\"yaxis\":{\"backgroundcolor\":\"#E5ECF6\",\"gridcolor\":\"white\",\"linecolor\":\"white\",\"showbackground\":true,\"ticks\":\"\",\"zerolinecolor\":\"white\",\"gridwidth\":2},\"zaxis\":{\"backgroundcolor\":\"#E5ECF6\",\"gridcolor\":\"white\",\"linecolor\":\"white\",\"showbackground\":true,\"ticks\":\"\",\"zerolinecolor\":\"white\",\"gridwidth\":2}},\"shapedefaults\":{\"line\":{\"color\":\"#2a3f5f\"}},\"annotationdefaults\":{\"arrowcolor\":\"#2a3f5f\",\"arrowhead\":0,\"arrowwidth\":1},\"geo\":{\"bgcolor\":\"white\",\"landcolor\":\"#E5ECF6\",\"subunitcolor\":\"white\",\"showland\":true,\"showlakes\":true,\"lakecolor\":\"white\"},\"title\":{\"x\":0.05},\"mapbox\":{\"style\":\"light\"}}},\"xaxis\":{\"anchor\":\"y\",\"domain\":[0.0,1.0],\"title\":{\"text\":\"Coefficient Magnitude\"}},\"yaxis\":{\"anchor\":\"x\",\"domain\":[0.0,1.0],\"title\":{\"text\":\"Features\"},\"categoryorder\":\"total ascending\"},\"legend\":{\"tracegroupgap\":0},\"title\":{\"text\":\"Ridge Regression - Feature Importance\"},\"barmode\":\"relative\"},                        {\"responsive\": true}                    ).then(function(){\n",
       "                            \n",
       "var gd = document.getElementById('e22526b1-1076-4639-9e79-86717ec15048');\n",
       "var x = new MutationObserver(function (mutations, observer) {{\n",
       "        var display = window.getComputedStyle(gd).display;\n",
       "        if (!display || display === 'none') {{\n",
       "            console.log([gd, 'removed!']);\n",
       "            Plotly.purge(gd);\n",
       "            observer.disconnect();\n",
       "        }}\n",
       "}});\n",
       "\n",
       "// Listen for the removal of the full notebook cells\n",
       "var notebookContainer = gd.closest('#notebook-container');\n",
       "if (notebookContainer) {{\n",
       "    x.observe(notebookContainer, {childList: true});\n",
       "}}\n",
       "\n",
       "// Listen for the clearing of the current output cell\n",
       "var outputEl = gd.closest('.output');\n",
       "if (outputEl) {{\n",
       "    x.observe(outputEl, {childList: true});\n",
       "}}\n",
       "\n",
       "                        })                };                });            </script>        </div>"
      ]
     },
     "metadata": {},
     "output_type": "display_data"
    }
   ],
   "source": [
    "# https://plotly.com/python/bar-charts/\n",
    "\n",
    "coefficients_ridge = ridge_model.coef_\n",
    "\n",
    "fig_ridge = px.bar(x=np.abs(coefficients_ridge), y=X_train.columns, orientation='h', title='Ridge Regression - Feature Importance')\n",
    "fig_ridge.update_layout(yaxis=dict(categoryorder='total ascending'))\n",
    "fig_ridge.update_xaxes(title_text='Coefficient Magnitude')\n",
    "fig_ridge.update_yaxes(title_text='Features')\n",
    "fig_ridge.show()"
   ]
  },
  {
   "cell_type": "markdown",
   "id": "d9b57782",
   "metadata": {},
   "source": [
    "## Feature Importance - Top 10 Features"
   ]
  },
  {
   "cell_type": "code",
   "execution_count": 78,
   "id": "994580f0",
   "metadata": {},
   "outputs": [
    {
     "data": {
      "image/png": "[encoded data removed]",
      "text/plain": [
       "<Figure size 1000x600 with 1 Axes>"
      ]
     },
     "metadata": {},
     "output_type": "display_data"
    }
   ],
   "source": [
    "coefficients = ridge_model.coef_\n",
    "\n",
    "top_n = 10\n",
    "top_feature_indices = np.argsort(np.abs(coefficients))[-top_n:]\n",
    "top_feature_names = X_train.columns[top_feature_indices]\n",
    "\n",
    "plt.figure(figsize=(10, 6))\n",
    "plt.bar(range(len(top_feature_indices)), np.abs(coefficients[top_feature_indices]))\n",
    "plt.xticks(range(len(top_feature_indices)), top_feature_names, rotation=45)\n",
    "plt.xlabel('Features')\n",
    "plt.ylabel('Coefficient Magnitude')\n",
    "plt.title(f'Top {top_n} Ridge Regression - Feature Importance')\n",
    "plt.show()"
   ]
  },
  {
   "cell_type": "markdown",
   "id": "9ce208f0",
   "metadata": {},
   "source": [
    "## Tuning the Model using Cross-Validation: RidgeCV"
   ]
  },
  {
   "cell_type": "code",
   "execution_count": 14,
   "id": "163a5aa9",
   "metadata": {},
   "outputs": [
    {
     "name": "stdout",
     "output_type": "stream",
     "text": [
      "Best Alpha: 92.36708571873865\n",
      "Mean Absolute Error (MAE): 1616.343189533927\n",
      "Mean Squared Error (MSE): 4950982.139779543\n",
      "Root Mean Squared Error (RMSE): 2225.0802546828604\n",
      "R-squared (R2-Score): 0.7450195421248086\n"
     ]
    }
   ],
   "source": [
    "num_values = 30\n",
    "alpha_values = np.geomspace(1e-3, 1e3, num=num_values)\n",
    "ridge_cv_model = RidgeCV(alphas=alpha_values, store_cv_values=True)\n",
    "\n",
    "ridge_cv_model.fit(X_train_scaled, y_train)\n",
    "best_alpha = ridge_cv_model.alpha_\n",
    "y_pred_ridge_cv = ridge_cv_model.predict(X_test_scaled)\n",
    "\n",
    "mae_ridge_cv = mean_absolute_error(y_test, y_pred_ridge_cv)\n",
    "mse_ridge_cv = mean_squared_error(y_test, y_pred_ridge_cv)\n",
    "rmse_ridge_cv = mean_squared_error(y_test, y_pred_ridge_cv, squared=False)\n",
    "r2_ridge_cv = r2_score(y_test, y_pred_ridge_cv)\n",
    "\n",
    "print(f\"Best Alpha: {best_alpha}\")\n",
    "print(f\"Mean Absolute Error (MAE): {mae_ridge_cv}\")\n",
    "print(f\"Mean Squared Error (MSE): {mse_ridge_cv}\")\n",
    "print(f\"Root Mean Squared Error (RMSE): {rmse_ridge_cv}\")\n",
    "print(f\"R-squared (R2-Score): {r2_ridge_cv}\")"
   ]
  }
 ],
 "metadata": {
  "kernelspec": {
   "display_name": "Python 3 (ipykernel)",
   "language": "python",
   "name": "python3"
  },
  "language_info": {
   "codemirror_mode": {
    "name": "ipython",
    "version": 3
   },
   "file_extension": ".py",
   "mimetype": "text/x-python",
   "name": "python",
   "nbconvert_exporter": "python",
   "pygments_lexer": "ipython3",
   "version": "3.9.13"
  }
 },
 "nbformat": 4,
 "nbformat_minor": 5
}
